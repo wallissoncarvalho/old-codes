{
 "cells": [
  {
   "cell_type": "code",
   "execution_count": 10,
   "metadata": {},
   "outputs": [],
   "source": [
    "%matplotlib inline\n",
    "import pandas as pd\n",
    "import geopandas as gpd\n",
    "import os\n",
    "import zipfile\n",
    "import shutil"
   ]
  },
  {
   "cell_type": "markdown",
   "metadata": {},
   "source": [
    "## Tratamento dos dados"
   ]
  },
  {
   "cell_type": "code",
   "execution_count": 2,
   "metadata": {},
   "outputs": [],
   "source": [
    "#Criar um diretório caso ele não exista\n",
    "dir = 'Dados/RJ-SETOR/TEMP'\n",
    "if not os.path.exists(dir):\n",
    "    os.makedirs(dir)"
   ]
  },
  {
   "cell_type": "raw",
   "metadata": {},
   "source": [
    "O método os.walk() :"
   ]
  },
  {
   "cell_type": "markdown",
   "metadata": {},
   "source": [
    "<img src=\"walk.png\" width=70%>"
   ]
  },
  {
   "cell_type": "code",
   "execution_count": 3,
   "metadata": {},
   "outputs": [],
   "source": [
    "#Encontra o nome de todos os arquivos que estão na pasta 'files',em seguida descompacta em um diretório\n",
    "filenames = []\n",
    "for root, dirs, files in os.walk('Dados/RJ-SETOR/DADOS'):\n",
    "    for name in files:\n",
    "        zip_ref=zipfile.ZipFile('Dados/RJ-SETOR/DADOS/'+name,'r')\n",
    "        zip_ref.extractall(dir)\n",
    "        zip_ref.close()"
   ]
  },
  {
   "cell_type": "markdown",
   "metadata": {},
   "source": [
    "## Concatenando Shapefiles"
   ]
  },
  {
   "cell_type": "code",
   "execution_count": 4,
   "metadata": {},
   "outputs": [],
   "source": [
    "#Abre o shape de todos os setores e concatena\n",
    "setor=pd.concat([gpd.read_file(dir+'/'+item[:-4]+'_setor.shp') for item in files], ignore_index=True)\n",
    "#Deleta a pasta temporária\n",
    "shutil.rmtree(dir)"
   ]
  },
  {
   "cell_type": "code",
   "execution_count": 8,
   "metadata": {},
   "outputs": [
    {
     "data": {
      "text/plain": [
       "'0.3.0'"
      ]
     },
     "execution_count": 8,
     "metadata": {},
     "output_type": "execute_result"
    }
   ],
   "source": [
    "gpd.__version__"
   ]
  },
  {
   "cell_type": "code",
   "execution_count": 9,
   "metadata": {},
   "outputs": [
    {
     "name": "stdout",
     "output_type": "stream",
     "text": [
      "{'init': 'epsg:4674'}\n",
      "{'init': 'epsg:4674'}\n"
     ]
    }
   ],
   "source": [
    "print(setor.crs)\n",
    "#Configurando o sistema de coordenadas\n",
    "setor.to_crs('+proj=utm +zone=23 +south +ellps=GRS80 +towgs84=0,0,0,0,0,0,0 +units=km +no_defs')\n",
    "print(setor.crs)"
   ]
  },
  {
   "cell_type": "markdown",
   "metadata": {},
   "source": [
    "## Adicionando atributos ao shapefile"
   ]
  },
  {
   "cell_type": "raw",
   "metadata": {},
   "source": [
    "Queremos adicionar dados do Censo de 2010 como atributos do shapefile de setores censitários."
   ]
  },
  {
   "cell_type": "code",
   "execution_count": 38,
   "metadata": {},
   "outputs": [
    {
     "data": {
      "text/html": [
       "<div>\n",
       "<style scoped>\n",
       "    .dataframe tbody tr th:only-of-type {\n",
       "        vertical-align: middle;\n",
       "    }\n",
       "\n",
       "    .dataframe tbody tr th {\n",
       "        vertical-align: top;\n",
       "    }\n",
       "\n",
       "    .dataframe thead th {\n",
       "        text-align: right;\n",
       "    }\n",
       "</style>\n",
       "<table border=\"1\" class=\"dataframe\">\n",
       "  <thead>\n",
       "    <tr style=\"text-align: right;\">\n",
       "      <th></th>\n",
       "      <th>Cod_setor</th>\n",
       "      <th>Cod_Grandes Regiões</th>\n",
       "      <th>Nome_Grande_Regiao</th>\n",
       "      <th>Cod_UF</th>\n",
       "      <th>Nome_da_UF</th>\n",
       "      <th>Cod_meso</th>\n",
       "      <th>Nome_da_meso</th>\n",
       "      <th>Cod_micro</th>\n",
       "      <th>Nome_da_micro</th>\n",
       "      <th>Cod_RM</th>\n",
       "      <th>...</th>\n",
       "      <th>V003</th>\n",
       "      <th>V004</th>\n",
       "      <th>V005</th>\n",
       "      <th>V006</th>\n",
       "      <th>V007</th>\n",
       "      <th>V008</th>\n",
       "      <th>V009</th>\n",
       "      <th>V010</th>\n",
       "      <th>V011</th>\n",
       "      <th>V012</th>\n",
       "    </tr>\n",
       "  </thead>\n",
       "  <tbody>\n",
       "    <tr>\n",
       "      <th>0</th>\n",
       "      <td>330010005000001</td>\n",
       "      <td>3</td>\n",
       "      <td>Região Sudeste</td>\n",
       "      <td>RJ</td>\n",
       "      <td>Rio de Janeiro</td>\n",
       "      <td>3305</td>\n",
       "      <td>Sul Fluminense</td>\n",
       "      <td>33013</td>\n",
       "      <td>Baía da Ilha Grande</td>\n",
       "      <td>0</td>\n",
       "      <td>...</td>\n",
       "      <td>2.62</td>\n",
       "      <td>1.94</td>\n",
       "      <td>2356.80</td>\n",
       "      <td>5716056.06</td>\n",
       "      <td>2571.06</td>\n",
       "      <td>5684616.94</td>\n",
       "      <td>1565.37</td>\n",
       "      <td>4344465.56</td>\n",
       "      <td>2192.65</td>\n",
       "      <td>4711305.89</td>\n",
       "    </tr>\n",
       "    <tr>\n",
       "      <th>1</th>\n",
       "      <td>330010005000002</td>\n",
       "      <td>3</td>\n",
       "      <td>Região Sudeste</td>\n",
       "      <td>RJ</td>\n",
       "      <td>Rio de Janeiro</td>\n",
       "      <td>3305</td>\n",
       "      <td>Sul Fluminense</td>\n",
       "      <td>33013</td>\n",
       "      <td>Baía da Ilha Grande</td>\n",
       "      <td>0</td>\n",
       "      <td>...</td>\n",
       "      <td>2.51</td>\n",
       "      <td>1.50</td>\n",
       "      <td>2040.47</td>\n",
       "      <td>3020377.79</td>\n",
       "      <td>2236.67</td>\n",
       "      <td>2869054.77</td>\n",
       "      <td>1816.69</td>\n",
       "      <td>20052928.88</td>\n",
       "      <td>2375.67</td>\n",
       "      <td>24942113.99</td>\n",
       "    </tr>\n",
       "    <tr>\n",
       "      <th>2</th>\n",
       "      <td>330010005000003</td>\n",
       "      <td>3</td>\n",
       "      <td>Região Sudeste</td>\n",
       "      <td>RJ</td>\n",
       "      <td>Rio de Janeiro</td>\n",
       "      <td>3305</td>\n",
       "      <td>Sul Fluminense</td>\n",
       "      <td>33013</td>\n",
       "      <td>Baía da Ilha Grande</td>\n",
       "      <td>0</td>\n",
       "      <td>...</td>\n",
       "      <td>3.08</td>\n",
       "      <td>2.19</td>\n",
       "      <td>2687.80</td>\n",
       "      <td>8362007.52</td>\n",
       "      <td>2836.66</td>\n",
       "      <td>8402987.99</td>\n",
       "      <td>1593.37</td>\n",
       "      <td>7250920.66</td>\n",
       "      <td>2294.84</td>\n",
       "      <td>8835722.10</td>\n",
       "    </tr>\n",
       "    <tr>\n",
       "      <th>3</th>\n",
       "      <td>330010005000004</td>\n",
       "      <td>3</td>\n",
       "      <td>Região Sudeste</td>\n",
       "      <td>RJ</td>\n",
       "      <td>Rio de Janeiro</td>\n",
       "      <td>3305</td>\n",
       "      <td>Sul Fluminense</td>\n",
       "      <td>33013</td>\n",
       "      <td>Baía da Ilha Grande</td>\n",
       "      <td>0</td>\n",
       "      <td>...</td>\n",
       "      <td>3.04</td>\n",
       "      <td>3.25</td>\n",
       "      <td>3026.67</td>\n",
       "      <td>24807309.86</td>\n",
       "      <td>3352.62</td>\n",
       "      <td>26410753.99</td>\n",
       "      <td>1865.52</td>\n",
       "      <td>10994097.59</td>\n",
       "      <td>2574.41</td>\n",
       "      <td>13362652.63</td>\n",
       "    </tr>\n",
       "    <tr>\n",
       "      <th>4</th>\n",
       "      <td>330010005000005</td>\n",
       "      <td>3</td>\n",
       "      <td>Região Sudeste</td>\n",
       "      <td>RJ</td>\n",
       "      <td>Rio de Janeiro</td>\n",
       "      <td>3305</td>\n",
       "      <td>Sul Fluminense</td>\n",
       "      <td>33013</td>\n",
       "      <td>Baía da Ilha Grande</td>\n",
       "      <td>0</td>\n",
       "      <td>...</td>\n",
       "      <td>3.34</td>\n",
       "      <td>1.94</td>\n",
       "      <td>1124.82</td>\n",
       "      <td>712447.24</td>\n",
       "      <td>1229.19</td>\n",
       "      <td>649944.69</td>\n",
       "      <td>689.40</td>\n",
       "      <td>583588.50</td>\n",
       "      <td>1028.21</td>\n",
       "      <td>521878.03</td>\n",
       "    </tr>\n",
       "  </tbody>\n",
       "</table>\n",
       "<p>5 rows × 33 columns</p>\n",
       "</div>"
      ],
      "text/plain": [
       "         Cod_setor  Cod_Grandes Regiões Nome_Grande_Regiao Cod_UF  \\\n",
       "0  330010005000001                    3     Região Sudeste     RJ   \n",
       "1  330010005000002                    3     Região Sudeste     RJ   \n",
       "2  330010005000003                    3     Região Sudeste     RJ   \n",
       "3  330010005000004                    3     Região Sudeste     RJ   \n",
       "4  330010005000005                    3     Região Sudeste     RJ   \n",
       "\n",
       "      Nome_da_UF   Cod_meso    Nome_da_meso  Cod_micro        Nome_da_micro  \\\n",
       "0  Rio de Janeiro      3305  Sul Fluminense      33013  Baía da Ilha Grande   \n",
       "1  Rio de Janeiro      3305  Sul Fluminense      33013  Baía da Ilha Grande   \n",
       "2  Rio de Janeiro      3305  Sul Fluminense      33013  Baía da Ilha Grande   \n",
       "3  Rio de Janeiro      3305  Sul Fluminense      33013  Baía da Ilha Grande   \n",
       "4  Rio de Janeiro      3305  Sul Fluminense      33013  Baía da Ilha Grande   \n",
       "\n",
       "   Cod_RM     ...       V003  V004     V005         V006     V007  \\\n",
       "0       0     ...       2.62  1.94  2356.80   5716056.06  2571.06   \n",
       "1       0     ...       2.51  1.50  2040.47   3020377.79  2236.67   \n",
       "2       0     ...       3.08  2.19  2687.80   8362007.52  2836.66   \n",
       "3       0     ...       3.04  3.25  3026.67  24807309.86  3352.62   \n",
       "4       0     ...       3.34  1.94  1124.82    712447.24  1229.19   \n",
       "\n",
       "          V008     V009         V010     V011         V012  \n",
       "0   5684616.94  1565.37   4344465.56  2192.65   4711305.89  \n",
       "1   2869054.77  1816.69  20052928.88  2375.67  24942113.99  \n",
       "2   8402987.99  1593.37   7250920.66  2294.84   8835722.10  \n",
       "3  26410753.99  1865.52  10994097.59  2574.41  13362652.63  \n",
       "4    649944.69   689.40    583588.50  1028.21    521878.03  \n",
       "\n",
       "[5 rows x 33 columns]"
      ]
     },
     "execution_count": 38,
     "metadata": {},
     "output_type": "execute_result"
    }
   ],
   "source": [
    "censo=pd.read_excel('Dados/Censo 2010/RJ/EXCEL/Basico_RJ.xls')\n",
    "censo.head()"
   ]
  },
  {
   "cell_type": "code",
   "execution_count": 39,
   "metadata": {},
   "outputs": [
    {
     "data": {
      "text/html": [
       "<div>\n",
       "<style scoped>\n",
       "    .dataframe tbody tr th:only-of-type {\n",
       "        vertical-align: middle;\n",
       "    }\n",
       "\n",
       "    .dataframe tbody tr th {\n",
       "        vertical-align: top;\n",
       "    }\n",
       "\n",
       "    .dataframe thead th {\n",
       "        text-align: right;\n",
       "    }\n",
       "</style>\n",
       "<table border=\"1\" class=\"dataframe\">\n",
       "  <thead>\n",
       "    <tr style=\"text-align: right;\">\n",
       "      <th></th>\n",
       "      <th>ID1</th>\n",
       "      <th>CD_GEOCODI</th>\n",
       "      <th>TIPO</th>\n",
       "      <th>CD_GEOCODB</th>\n",
       "      <th>NM_BAIRRO</th>\n",
       "      <th>CD_GEOCODD</th>\n",
       "      <th>NM_DISTRIT</th>\n",
       "      <th>CD_GEOCODS</th>\n",
       "      <th>NM_SUBDIST</th>\n",
       "      <th>CD_GEOCODM</th>\n",
       "      <th>NM_MUNICIP</th>\n",
       "      <th>NM_MESO</th>\n",
       "      <th>NM_MICRO</th>\n",
       "      <th>geometry</th>\n",
       "    </tr>\n",
       "  </thead>\n",
       "  <tbody>\n",
       "    <tr>\n",
       "      <th>0</th>\n",
       "      <td>400341</td>\n",
       "      <td>330455705060018</td>\n",
       "      <td>URBANO</td>\n",
       "      <td>330455705004</td>\n",
       "      <td>Caju</td>\n",
       "      <td>330455705</td>\n",
       "      <td>RIO DE JANEIRO</td>\n",
       "      <td>330455705</td>\n",
       "      <td>PORTUÁRIA</td>\n",
       "      <td>3304557</td>\n",
       "      <td>RIO DE JANEIRO</td>\n",
       "      <td>METROPOLITANA DO RIO DE JANEIRO</td>\n",
       "      <td>RIO DE JANEIRO</td>\n",
       "      <td>POLYGON ((67.60196855327882 7464.102627219262,...</td>\n",
       "    </tr>\n",
       "    <tr>\n",
       "      <th>1</th>\n",
       "      <td>400342</td>\n",
       "      <td>330455705060019</td>\n",
       "      <td>URBANO</td>\n",
       "      <td>330455705004</td>\n",
       "      <td>Caju</td>\n",
       "      <td>330455705</td>\n",
       "      <td>RIO DE JANEIRO</td>\n",
       "      <td>330455705</td>\n",
       "      <td>PORTUÁRIA</td>\n",
       "      <td>3304557</td>\n",
       "      <td>RIO DE JANEIRO</td>\n",
       "      <td>METROPOLITANA DO RIO DE JANEIRO</td>\n",
       "      <td>RIO DE JANEIRO</td>\n",
       "      <td>POLYGON ((67.56062915545877 7464.137012697503,...</td>\n",
       "    </tr>\n",
       "    <tr>\n",
       "      <th>2</th>\n",
       "      <td>400343</td>\n",
       "      <td>330455705060020</td>\n",
       "      <td>URBANO</td>\n",
       "      <td>330455705004</td>\n",
       "      <td>Caju</td>\n",
       "      <td>330455705</td>\n",
       "      <td>RIO DE JANEIRO</td>\n",
       "      <td>330455705</td>\n",
       "      <td>PORTUÁRIA</td>\n",
       "      <td>3304557</td>\n",
       "      <td>RIO DE JANEIRO</td>\n",
       "      <td>METROPOLITANA DO RIO DE JANEIRO</td>\n",
       "      <td>RIO DE JANEIRO</td>\n",
       "      <td>POLYGON ((67.54105963667529 7464.341366628712,...</td>\n",
       "    </tr>\n",
       "    <tr>\n",
       "      <th>3</th>\n",
       "      <td>400344</td>\n",
       "      <td>330455705060021</td>\n",
       "      <td>URBANO</td>\n",
       "      <td>330455705004</td>\n",
       "      <td>Caju</td>\n",
       "      <td>330455705</td>\n",
       "      <td>RIO DE JANEIRO</td>\n",
       "      <td>330455705</td>\n",
       "      <td>PORTUÁRIA</td>\n",
       "      <td>3304557</td>\n",
       "      <td>RIO DE JANEIRO</td>\n",
       "      <td>METROPOLITANA DO RIO DE JANEIRO</td>\n",
       "      <td>RIO DE JANEIRO</td>\n",
       "      <td>POLYGON ((67.72651992159972 7464.219569948145,...</td>\n",
       "    </tr>\n",
       "    <tr>\n",
       "      <th>4</th>\n",
       "      <td>400347</td>\n",
       "      <td>330455705060024</td>\n",
       "      <td>URBANO</td>\n",
       "      <td>330455705003</td>\n",
       "      <td>Santo Cristo</td>\n",
       "      <td>330455705</td>\n",
       "      <td>RIO DE JANEIRO</td>\n",
       "      <td>330455705</td>\n",
       "      <td>PORTUÁRIA</td>\n",
       "      <td>3304557</td>\n",
       "      <td>RIO DE JANEIRO</td>\n",
       "      <td>METROPOLITANA DO RIO DE JANEIRO</td>\n",
       "      <td>RIO DE JANEIRO</td>\n",
       "      <td>POLYGON ((68.25025455529079 7460.563391422447,...</td>\n",
       "    </tr>\n",
       "  </tbody>\n",
       "</table>\n",
       "</div>"
      ],
      "text/plain": [
       "      ID1       CD_GEOCODI    TIPO    CD_GEOCODB     NM_BAIRRO CD_GEOCODD  \\\n",
       "0  400341  330455705060018  URBANO  330455705004          Caju  330455705   \n",
       "1  400342  330455705060019  URBANO  330455705004          Caju  330455705   \n",
       "2  400343  330455705060020  URBANO  330455705004          Caju  330455705   \n",
       "3  400344  330455705060021  URBANO  330455705004          Caju  330455705   \n",
       "4  400347  330455705060024  URBANO  330455705003  Santo Cristo  330455705   \n",
       "\n",
       "       NM_DISTRIT CD_GEOCODS NM_SUBDIST CD_GEOCODM      NM_MUNICIP  \\\n",
       "0  RIO DE JANEIRO  330455705  PORTUÁRIA    3304557  RIO DE JANEIRO   \n",
       "1  RIO DE JANEIRO  330455705  PORTUÁRIA    3304557  RIO DE JANEIRO   \n",
       "2  RIO DE JANEIRO  330455705  PORTUÁRIA    3304557  RIO DE JANEIRO   \n",
       "3  RIO DE JANEIRO  330455705  PORTUÁRIA    3304557  RIO DE JANEIRO   \n",
       "4  RIO DE JANEIRO  330455705  PORTUÁRIA    3304557  RIO DE JANEIRO   \n",
       "\n",
       "                           NM_MESO        NM_MICRO  \\\n",
       "0  METROPOLITANA DO RIO DE JANEIRO  RIO DE JANEIRO   \n",
       "1  METROPOLITANA DO RIO DE JANEIRO  RIO DE JANEIRO   \n",
       "2  METROPOLITANA DO RIO DE JANEIRO  RIO DE JANEIRO   \n",
       "3  METROPOLITANA DO RIO DE JANEIRO  RIO DE JANEIRO   \n",
       "4  METROPOLITANA DO RIO DE JANEIRO  RIO DE JANEIRO   \n",
       "\n",
       "                                            geometry  \n",
       "0  POLYGON ((67.60196855327882 7464.102627219262,...  \n",
       "1  POLYGON ((67.56062915545877 7464.137012697503,...  \n",
       "2  POLYGON ((67.54105963667529 7464.341366628712,...  \n",
       "3  POLYGON ((67.72651992159972 7464.219569948145,...  \n",
       "4  POLYGON ((68.25025455529079 7460.563391422447,...  "
      ]
     },
     "execution_count": 39,
     "metadata": {},
     "output_type": "execute_result"
    }
   ],
   "source": [
    "setor=gpd.read_file('Dados/RJ-SETOR/RJ-SETOR.shp')\n",
    "setor.head()"
   ]
  },
  {
   "cell_type": "raw",
   "metadata": {},
   "source": [
    "A coluna Cod_setor do censo, e a coluna CD_GEOCODI do shapefile dos setores serão utilizadas como referência para concatenar os atributos, logo os valores nelas inseridos precisam ser do mesmo tipo."
   ]
  },
  {
   "cell_type": "code",
   "execution_count": 40,
   "metadata": {},
   "outputs": [
    {
     "data": {
      "text/plain": [
       "Cod_setor               int64\n",
       "Cod_Grandes Regiões     int64\n",
       "Nome_Grande_Regiao     object\n",
       "Cod_UF                 object\n",
       "Nome_da_UF             object\n",
       "dtype: object"
      ]
     },
     "execution_count": 40,
     "metadata": {},
     "output_type": "execute_result"
    }
   ],
   "source": [
    "censo.dtypes.head()"
   ]
  },
  {
   "cell_type": "code",
   "execution_count": 41,
   "metadata": {},
   "outputs": [
    {
     "data": {
      "text/plain": [
       "ID1            int64\n",
       "CD_GEOCODI    object\n",
       "TIPO          object\n",
       "CD_GEOCODB    object\n",
       "NM_BAIRRO     object\n",
       "dtype: object"
      ]
     },
     "execution_count": 41,
     "metadata": {},
     "output_type": "execute_result"
    }
   ],
   "source": [
    "setor.dtypes.head()"
   ]
  },
  {
   "cell_type": "raw",
   "metadata": {},
   "source": [
    "Como há divergência entre os tipos, temos que fazer a conversão."
   ]
  },
  {
   "cell_type": "code",
   "execution_count": 42,
   "metadata": {},
   "outputs": [],
   "source": [
    "censo['Cod_setor']=censo['Cod_setor'].astype(str)"
   ]
  },
  {
   "cell_type": "code",
   "execution_count": 43,
   "metadata": {},
   "outputs": [
    {
     "data": {
      "text/plain": [
       "Cod_setor              object\n",
       "Cod_Grandes Regiões     int64\n",
       "Nome_Grande_Regiao     object\n",
       "Cod_UF                 object\n",
       "Nome_da_UF             object\n",
       "dtype: object"
      ]
     },
     "execution_count": 43,
     "metadata": {},
     "output_type": "execute_result"
    }
   ],
   "source": [
    "censo.dtypes.head()"
   ]
  },
  {
   "cell_type": "code",
   "execution_count": 44,
   "metadata": {},
   "outputs": [],
   "source": [
    "setor=pd.merge(setor,censo,left_on='CD_GEOCODI',right_on='Cod_setor',how='left')"
   ]
  },
  {
   "cell_type": "code",
   "execution_count": 45,
   "metadata": {},
   "outputs": [
    {
     "data": {
      "text/plain": [
       "(10504, 47)"
      ]
     },
     "execution_count": 45,
     "metadata": {},
     "output_type": "execute_result"
    }
   ],
   "source": [
    "setor.shape"
   ]
  },
  {
   "cell_type": "code",
   "execution_count": 46,
   "metadata": {},
   "outputs": [
    {
     "data": {
      "text/plain": [
       "Index(['ID1', 'CD_GEOCODI', 'TIPO', 'CD_GEOCODB', 'NM_BAIRRO', 'CD_GEOCODD',\n",
       "       'NM_DISTRIT', 'CD_GEOCODS', 'NM_SUBDIST', 'CD_GEOCODM', 'NM_MUNICIP',\n",
       "       'NM_MESO', 'NM_MICRO', 'geometry', 'Cod_setor', 'Cod_Grandes Regiões',\n",
       "       'Nome_Grande_Regiao', 'Cod_UF', 'Nome_da_UF ', 'Cod_meso',\n",
       "       'Nome_da_meso', 'Cod_micro', 'Nome_da_micro', 'Cod_RM', 'Nome_da_RM',\n",
       "       'Cod_municipio', 'Nome_do_municipio', 'Cod_distrito',\n",
       "       'Nome_do_distrito', 'Cod_subdistrito', 'Nome_do_subdistrito',\n",
       "       'Cod_bairro', 'Nome_do_bairro', 'Situacao_setor', 'Tipo_setor', 'V001',\n",
       "       'V002', 'V003', 'V004', 'V005', 'V006', 'V007', 'V008', 'V009', 'V010',\n",
       "       'V011', 'V012'],\n",
       "      dtype='object')"
      ]
     },
     "execution_count": 46,
     "metadata": {},
     "output_type": "execute_result"
    }
   ],
   "source": [
    "setor.columns"
   ]
  },
  {
   "cell_type": "code",
   "execution_count": 5,
   "metadata": {},
   "outputs": [
    {
     "name": "stderr",
     "output_type": "stream",
     "text": [
      "C:\\ProgramData\\Anaconda3\\lib\\site-packages\\geopandas\\io\\file.py:62: FionaDeprecationWarning: Use fiona.Env() instead.\n",
      "  with fiona.drivers():\n"
     ]
    }
   ],
   "source": [
    "setor.to_file('Dados/RJ-SETOR/RJ-SETOR.shp')"
   ]
  },
  {
   "cell_type": "markdown",
   "metadata": {},
   "source": [
    "## Juntando atributos de dois shapefiles"
   ]
  },
  {
   "cell_type": "code",
   "execution_count": 14,
   "metadata": {},
   "outputs": [],
   "source": [
    "setor=gpd.read_file('Dados/RJ-SETOR/RJ-SETOR.shp')\n",
    "geo_dados=gpd.read_file('Dados/RJ-DATASET/DATASET.shp')"
   ]
  },
  {
   "cell_type": "code",
   "execution_count": 15,
   "metadata": {},
   "outputs": [
    {
     "data": {
      "text/html": [
       "<div>\n",
       "<style scoped>\n",
       "    .dataframe tbody tr th:only-of-type {\n",
       "        vertical-align: middle;\n",
       "    }\n",
       "\n",
       "    .dataframe tbody tr th {\n",
       "        vertical-align: top;\n",
       "    }\n",
       "\n",
       "    .dataframe thead th {\n",
       "        text-align: right;\n",
       "    }\n",
       "</style>\n",
       "<table border=\"1\" class=\"dataframe\">\n",
       "  <thead>\n",
       "    <tr style=\"text-align: right;\">\n",
       "      <th></th>\n",
       "      <th>Area</th>\n",
       "      <th>Bairro</th>\n",
       "      <th>Cidade</th>\n",
       "      <th>Endereco</th>\n",
       "      <th>Estado</th>\n",
       "      <th>Latitude</th>\n",
       "      <th>Longitude</th>\n",
       "      <th>Quartos</th>\n",
       "      <th>Suites</th>\n",
       "      <th>Vagas</th>\n",
       "      <th>Tipo</th>\n",
       "      <th>Transacao</th>\n",
       "      <th>Valor</th>\n",
       "      <th>Dist_Metro</th>\n",
       "      <th>Dist_Trans</th>\n",
       "      <th>Dist_Praia</th>\n",
       "      <th>geometry</th>\n",
       "    </tr>\n",
       "  </thead>\n",
       "  <tbody>\n",
       "    <tr>\n",
       "      <th>0</th>\n",
       "      <td>138</td>\n",
       "      <td>Recreio dos Bandeirantes</td>\n",
       "      <td>Rio de Janeiro</td>\n",
       "      <td>Rua Vicente Scofano</td>\n",
       "      <td>RJ</td>\n",
       "      <td>-23.016455</td>\n",
       "      <td>-43.462946</td>\n",
       "      <td>3</td>\n",
       "      <td>1</td>\n",
       "      <td>3</td>\n",
       "      <td>Apartamento</td>\n",
       "      <td>Venda</td>\n",
       "      <td>1095000</td>\n",
       "      <td>15.665002</td>\n",
       "      <td>0.443302</td>\n",
       "      <td>1.103410</td>\n",
       "      <td>POINT (657.5137068691058 7453.832425203198)</td>\n",
       "    </tr>\n",
       "    <tr>\n",
       "      <th>1</th>\n",
       "      <td>133</td>\n",
       "      <td>Freguesia (Jacarepaguá)</td>\n",
       "      <td>Rio de Janeiro</td>\n",
       "      <td>Rua Potiguara</td>\n",
       "      <td>RJ</td>\n",
       "      <td>-22.943199</td>\n",
       "      <td>-43.336911</td>\n",
       "      <td>3</td>\n",
       "      <td>1</td>\n",
       "      <td>2</td>\n",
       "      <td>Apartamento</td>\n",
       "      <td>Venda</td>\n",
       "      <td>650000</td>\n",
       "      <td>7.494379</td>\n",
       "      <td>3.616386</td>\n",
       "      <td>7.422906</td>\n",
       "      <td>POINT (670.5239029320986 7461.803087641325)</td>\n",
       "    </tr>\n",
       "    <tr>\n",
       "      <th>2</th>\n",
       "      <td>46</td>\n",
       "      <td>Pilares</td>\n",
       "      <td>Rio de Janeiro</td>\n",
       "      <td>Rua Professor Carneiro Felipe</td>\n",
       "      <td>RJ</td>\n",
       "      <td>-22.873849</td>\n",
       "      <td>-43.300517</td>\n",
       "      <td>1</td>\n",
       "      <td>0</td>\n",
       "      <td>0</td>\n",
       "      <td>Apartamento</td>\n",
       "      <td>Venda</td>\n",
       "      <td>150000</td>\n",
       "      <td>0.801969</td>\n",
       "      <td>0.668178</td>\n",
       "      <td>6.303847</td>\n",
       "      <td>POINT (674.3450038415888 7469.439743130414)</td>\n",
       "    </tr>\n",
       "    <tr>\n",
       "      <th>3</th>\n",
       "      <td>65</td>\n",
       "      <td>Barra da Tijuca</td>\n",
       "      <td>Rio de Janeiro</td>\n",
       "      <td>Avenida Salvador Allende</td>\n",
       "      <td>RJ</td>\n",
       "      <td>-22.984787</td>\n",
       "      <td>-43.412703</td>\n",
       "      <td>2</td>\n",
       "      <td>1</td>\n",
       "      <td>1</td>\n",
       "      <td>Apartamento</td>\n",
       "      <td>Venda</td>\n",
       "      <td>430000</td>\n",
       "      <td>10.743404</td>\n",
       "      <td>0.488183</td>\n",
       "      <td>3.357297</td>\n",
       "      <td>POINT (662.7013782087697 7457.284070512794)</td>\n",
       "    </tr>\n",
       "    <tr>\n",
       "      <th>4</th>\n",
       "      <td>260</td>\n",
       "      <td>Recreio dos Bandeirantes</td>\n",
       "      <td>Rio de Janeiro</td>\n",
       "      <td>Rua Desembargador Paulo Alonso</td>\n",
       "      <td>RJ</td>\n",
       "      <td>-23.018927</td>\n",
       "      <td>-43.477505</td>\n",
       "      <td>3</td>\n",
       "      <td>1</td>\n",
       "      <td>2</td>\n",
       "      <td>Apartamento</td>\n",
       "      <td>Venda</td>\n",
       "      <td>1160000</td>\n",
       "      <td>17.173722</td>\n",
       "      <td>0.276796</td>\n",
       "      <td>1.318215</td>\n",
       "      <td>POINT (656.0187146395718 7453.574299351502)</td>\n",
       "    </tr>\n",
       "  </tbody>\n",
       "</table>\n",
       "</div>"
      ],
      "text/plain": [
       "   Area                    Bairro          Cidade  \\\n",
       "0   138  Recreio dos Bandeirantes  Rio de Janeiro   \n",
       "1   133   Freguesia (Jacarepaguá)  Rio de Janeiro   \n",
       "2    46                   Pilares  Rio de Janeiro   \n",
       "3    65           Barra da Tijuca  Rio de Janeiro   \n",
       "4   260  Recreio dos Bandeirantes  Rio de Janeiro   \n",
       "\n",
       "                         Endereco Estado   Latitude  Longitude  Quartos  \\\n",
       "0             Rua Vicente Scofano     RJ -23.016455 -43.462946        3   \n",
       "1                   Rua Potiguara     RJ -22.943199 -43.336911        3   \n",
       "2   Rua Professor Carneiro Felipe     RJ -22.873849 -43.300517        1   \n",
       "3        Avenida Salvador Allende     RJ -22.984787 -43.412703        2   \n",
       "4  Rua Desembargador Paulo Alonso     RJ -23.018927 -43.477505        3   \n",
       "\n",
       "   Suites  Vagas         Tipo Transacao    Valor  Dist_Metro  Dist_Trans  \\\n",
       "0       1      3  Apartamento     Venda  1095000   15.665002    0.443302   \n",
       "1       1      2  Apartamento     Venda   650000    7.494379    3.616386   \n",
       "2       0      0  Apartamento     Venda   150000    0.801969    0.668178   \n",
       "3       1      1  Apartamento     Venda   430000   10.743404    0.488183   \n",
       "4       1      2  Apartamento     Venda  1160000   17.173722    0.276796   \n",
       "\n",
       "   Dist_Praia                                     geometry  \n",
       "0    1.103410  POINT (657.5137068691058 7453.832425203198)  \n",
       "1    7.422906  POINT (670.5239029320986 7461.803087641325)  \n",
       "2    6.303847  POINT (674.3450038415888 7469.439743130414)  \n",
       "3    3.357297  POINT (662.7013782087697 7457.284070512794)  \n",
       "4    1.318215  POINT (656.0187146395718 7453.574299351502)  "
      ]
     },
     "execution_count": 15,
     "metadata": {},
     "output_type": "execute_result"
    }
   ],
   "source": [
    "geo_dados.head()"
   ]
  },
  {
   "cell_type": "code",
   "execution_count": 16,
   "metadata": {},
   "outputs": [
    {
     "data": {
      "text/plain": [
       "<matplotlib.axes._subplots.AxesSubplot at 0x12ce19e2cc0>"
      ]
     },
     "execution_count": 16,
     "metadata": {},
     "output_type": "execute_result"
    },
    {
     "data": {
      "image/png": "[encoded data removed]",
      "text/plain": [
       "<Figure size 1080x576 with 1 Axes>"
      ]
     },
     "metadata": {
      "needs_background": "light"
     },
     "output_type": "display_data"
    }
   ],
   "source": [
    "base=setor.plot(color='white',edgecolor='gray',figsize=(15,8))\n",
    "geo_dados.plot(ax=base,color='blue',markersize=1)"
   ]
  },
  {
   "cell_type": "code",
   "execution_count": null,
   "metadata": {},
   "outputs": [],
   "source": []
  }
 ],
 "metadata": {
  "kernelspec": {
   "display_name": "Python 3",
   "language": "python",
   "name": "python3"
  },
  "language_info": {
   "codemirror_mode": {
    "name": "ipython",
    "version": 3
   },
   "file_extension": ".py",
   "mimetype": "text/x-python",
   "name": "python",
   "nbconvert_exporter": "python",
   "pygments_lexer": "ipython3",
   "version": "3.7.0"
  }
 },
 "nbformat": 4,
 "nbformat_minor": 2
}
