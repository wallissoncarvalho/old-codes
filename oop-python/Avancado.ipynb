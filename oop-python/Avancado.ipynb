{
 "cells": [
  {
   "cell_type": "markdown",
   "metadata": {},
   "source": [
    "# Avançando na OOP"
   ]
  },
  {
   "cell_type": "raw",
   "metadata": {},
   "source": [
    "Primeiramente lidaremos com este trecho de aplicação, com a qual teremos o controle de playlist de programa de TV. Podemos lidar com filmes, séries, documentários e afins.\n",
    "\n",
    "Um filme tem as seguintes características:Nome;ano;duração;likes\n",
    "Uma série, por sua vez, possui:Nome;ano;temporadas;likes\n",
    "\n",
    "Se criarmos uma classe para série e outra para filmes, teremos:"
   ]
  },
  {
   "cell_type": "code",
   "execution_count": 1,
   "metadata": {},
   "outputs": [],
   "source": [
    "class Filme:\n",
    "    def __init__(self, nome, ano, duracao):\n",
    "        self.__nome = nome.title()\n",
    "        self.ano = ano\n",
    "        self.duracao = duracao\n",
    "        self.__likes = 0\n",
    "\n",
    "    @property\n",
    "    def likes(self):\n",
    "        return self.__likes\n",
    "\n",
    "    def dar_likes(self):\n",
    "        self.__likes += 1\n",
    "\n",
    "    @property\n",
    "    def nome(self):\n",
    "        return self.__nome\n",
    "\n",
    "    @nome.setter\n",
    "    def nome(self, nome):\n",
    "        self.__nome = nome\n",
    "\n",
    "class Serie:\n",
    "    def __init__(self, nome, ano, temporadas):\n",
    "        self.__nome = nome.title()\n",
    "        self.ano = ano\n",
    "        self.temporadas = temporadas\n",
    "        self.__likes = 0\n",
    "\n",
    "    @property\n",
    "    def likes(self):\n",
    "        return self.__likes\n",
    "\n",
    "    def dar_likes(self):\n",
    "        self.__likes += 1\n",
    "\n",
    "    @property\n",
    "    def nome(self):\n",
    "        return self.__nome\n",
    "\n",
    "    @nome.setter\n",
    "    def nome(self, nome):\n",
    "        self.__nome = nome"
   ]
  },
  {
   "cell_type": "raw",
   "metadata": {},
   "source": [
    "Percebemos que há códigos duplicados nas duas classes para repetir um comportamento comum às duas classes. Se tivéssemos uma nova classe, como documentario, teríamos mais um novo trecho de código duplicado.\n",
    "Caso percebecemos um erro na classe teríamos que mudar todas as classes individualmente.\n",
    "A seguir, mostraremos uma forma de fazermos o reuso deste código por meio da herança."
   ]
  },
  {
   "cell_type": "markdown",
   "metadata": {},
   "source": [
    "## Heranças"
   ]
  },
  {
   "cell_type": "markdown",
   "metadata": {},
   "source": [
    "Precisamos criar uma classe que representará a ideia genérica e podemos, por exemplo, chamá-la de Programa, em referência a programas de TV. Todo programa de TV terá nome, ano e likes. As duas classes também possuem informações mais específicas que pertencem somente a cada uma delas. A herança na verdade é uma ligação que essas classes terão, e que vão representar que Filme contém informações do programa, porque ele herdará Programa. Da mesma forma, Serie terá informações do mesmo.\n",
    "\n",
    "<img src=\"img/Hierarquiaa.png\" width=60%>\n",
    "\n",
    "Se tentarmos reduzir o código anterior, através desses conceitros, teremos:"
   ]
  },
  {
   "cell_type": "markdown",
   "metadata": {},
   "source": [
    "• Nós vamos compartilhar as informações entre programa e as classes filhas. Para isto, adicionaremos parênteses depois das mesmas e, dentro delas, especificaremos o nome da classe mãe Programa.\n",
    "\n",
    "• No caso, como colocamos a definição de privado (ex: atributo .____nome__), este elemento não vai para a classe filha. Então, este atributo deveria ser acessado por  _ _Programa___Nome, mas isto não é uma boa prática.\n",
    "\n",
    "• Uma melhor opção é usar simplesmente um _ (underscore), assim oferecemos a ideia de protegido, sem deixarmos privado. Por conversão, quando criamos uma variável com _, esperamos que ela não seja alterada depois. Ela estará protegida - mas reforçando, apenas por convenção."
   ]
  },
  {
   "cell_type": "code",
   "execution_count": 2,
   "metadata": {},
   "outputs": [],
   "source": [
    "class Programa:\n",
    "    def __init__(self, nome, ano, duracao):\n",
    "        self._nome = nome.title()\n",
    "        self.ano = ano\n",
    "        self.duracao = duracao\n",
    "        self._likes = 0\n",
    "\n",
    "    @property\n",
    "    def likes(self):\n",
    "        return self.__likes\n",
    "\n",
    "    def dar_likes(self):\n",
    "        self.__likes += 1\n",
    "\n",
    "    @property\n",
    "    def nome(self):\n",
    "        return self.__nome\n",
    "\n",
    "    @nome.setter\n",
    "    def nome(self, nome):\n",
    "        self.__nome = nome\n",
    "        \n",
    "class Filme(Programa):\n",
    "    def _init_(self, nome, ano, temporadas):\n",
    "        self._nome = nome.title()\n",
    "        self.ano = ano\n",
    "        self.duracao = duracao\n",
    "        self._likes = 0    \n",
    "\n",
    "\n",
    "class Serie(Programa):\n",
    "    def __init__(self, nome, ano, temporadas):\n",
    "        self._nome = nome.title()\n",
    "        self.ano = ano\n",
    "        self.temporadas = temporadas\n",
    "        self._likes = 0"
   ]
  },
  {
   "cell_type": "raw",
   "metadata": {},
   "source": [
    "Porém, teremos um problema: estamos replicando a criação de diversos atributos no momento de inicializarmos Programa, Serie e Filme. Para resolvermos isso, sempre que fizermos a alteração em uma parte, teremos que fazer o mesmo em diferentes classes em que eles estiverem sendo usados.\n",
    "\n",
    "Existe uma função que pode nos auxiliar muito neste caso, que chama um método, uma funcionalidade, na nossa classe mãe, e se chama superclasse. Quando formos criar nosso objeto do tipo Filme, na verdade já teremos criado um do tipo Programa. O que faremos é modificá-lo para que ele se pareça mais com Filme."
   ]
  },
  {
   "cell_type": "code",
   "execution_count": 3,
   "metadata": {},
   "outputs": [],
   "source": [
    "class Programa:\n",
    "    def __init__(self, nome, ano):\n",
    "        self._nome = nome.title()\n",
    "        self.ano = ano\n",
    "        self._likes = 0\n",
    "\n",
    "    @property\n",
    "    def likes(self):\n",
    "        return self._likes\n",
    "\n",
    "    def dar_likes(self):\n",
    "        self._likes += 1\n",
    "\n",
    "    @property\n",
    "    def nome(self):\n",
    "        return self._nome\n",
    "\n",
    "    @nome.setter\n",
    "    def nome(self, nome):\n",
    "        self._nome = nome\n",
    "\n",
    "class Filme(Programa):\n",
    "    def __init__(self, nome, ano, duracao):\n",
    "        super().__init__(nome, ano)\n",
    "        self.duracao = duracao\n",
    "\n",
    "class Serie(Programa):\n",
    "    def __init__(self, nome, ano, temporadas):\n",
    "        super().__init__(nome, ano)\n",
    "        self.temporadas = temporadas"
   ]
  },
  {
   "cell_type": "code",
   "execution_count": 4,
   "metadata": {},
   "outputs": [
    {
     "name": "stdout",
     "output_type": "stream",
     "text": [
      "Nome: Vingadores - Guerra Infinita - Likes: 3\n",
      "Nome: Atlanta - Likes: 2\n"
     ]
    }
   ],
   "source": [
    "vingadores = Filme('vingadores - guerra infinita', 2018, 160)\n",
    "atlanta = Serie('atlanta', 2018, 2)\n",
    "vingadores.dar_likes()\n",
    "vingadores.dar_likes()\n",
    "vingadores.dar_likes()\n",
    "\n",
    "atlanta.dar_likes()\n",
    "atlanta.dar_likes()\n",
    "\n",
    "print(f'Nome: {vingadores.nome} - Likes: {vingadores.likes}')\n",
    "print(f'Nome: {atlanta.nome} - Likes: {atlanta.likes}')"
   ]
  },
  {
   "cell_type": "markdown",
   "metadata": {},
   "source": [
    "## Polimorfismo"
   ]
  },
  {
   "cell_type": "markdown",
   "metadata": {},
   "source": [
    "• Precisamos criar uma playlist para, de alguma forma, armazenarmos o nosso programa de TV. Ela terá um nome específico, temático ou não, uma lista de forma ordenada e seu tamanho (tamanho()).\n",
    "\n",
    "• Da maneira como nosso código se encontra no momento, na classe já há uma forma de mostrarmos os objetos existentes, no caso, vingadores e atlanta; um deles é um filme, o outro, uma série. E ao lidarmos com heranças, podemos dizer que as classes filhas são do mesmo tipo que o da classe mãe.\n",
    "\n",
    "• Levando em conta tudo isso, podemos dizer que Filme e Serie possuem um relacionamento com a classe mãe, por serem classes filhas. Este relacionamento é chamado de é um - uma série é um programa, da mesma forma que um filme também é um programa. O filme, no entanto, não é uma série, já que este relacionamento só se dá entre uma classe genérica e uma específica, no caso de heranças."
   ]
  },
  {
   "cell_type": "code",
   "execution_count": 5,
   "metadata": {},
   "outputs": [
    {
     "name": "stdout",
     "output_type": "stream",
     "text": [
      "Vingadores - Guerra Infinita - 3\n",
      "Atlanta - 2\n"
     ]
    }
   ],
   "source": [
    "filmes_e_series = [vingadores, atlanta]\n",
    "\n",
    "for programa in filmes_e_series:\n",
    "    print(f'{programa.nome} - {programa.likes}')"
   ]
  },
  {
   "cell_type": "markdown",
   "metadata": {},
   "source": [
    "Aqui, vemos a vantagem de trabalharmos com heranças, chamada de polimorfismo. Desta forma, conseguimos percorrer uma lista qualquer e, sendo elas do mesmo supertipo, no caso, de Programa, e com uma estrutura similar, com nome e likes, conseguimos usar o for independentemente do tipo que existe ali."
   ]
  },
  {
   "cell_type": "markdown",
   "metadata": {},
   "source": [
    "Podemos verificar em tempo de execução que tipo de atributo o filme ou série em questão possui. Cada tipo possui detalhes próprios, sendo assim criaremos uma variável denominada detalhes. Nela, definiremos o que ela contém, e verificaremos o atributo contido no objeto por meio da função hasattr(), ou has attribute."
   ]
  },
  {
   "cell_type": "code",
   "execution_count": 6,
   "metadata": {},
   "outputs": [
    {
     "name": "stdout",
     "output_type": "stream",
     "text": [
      "Vingadores - Guerra Infinita - 160 D - 3\n",
      "Atlanta - 2 D - 2\n"
     ]
    }
   ],
   "source": [
    "filmes_e_series = [vingadores, atlanta]\n",
    "\n",
    "for programa in filmes_e_series:\n",
    "    detalhes = programa.duracao if hasattr(programa, 'duracao') else programa.temporadas\n",
    "    print(f'{programa.nome} - {detalhes} D - {programa.likes}')"
   ]
  },
  {
   "cell_type": "markdown",
   "metadata": {},
   "source": [
    "### Reduzindo ifs"
   ]
  },
  {
   "cell_type": "markdown",
   "metadata": {},
   "source": [
    "• Não precisamos saber se programas têm temporadas ou durações, eles simplesmente precisam ser exibidos. De certa forma, o filme e a série deveriam ser responsáveis pelas suas impressões. Quando vamos modelar classes e objetos, devemos levar em consideração suas responsabilidades.\n",
    "\n",
    "• Portanto, o ideal seria que cada classe tivesse sua responsabilidade com clareza e, quando isto ocorre, é possível chamá-la de classe coesa, ou seja, quando ela sabe qual é sua responsabilidade e não faz mais do que aquilo a que se propõe a fazer."
   ]
  },
  {
   "cell_type": "code",
   "execution_count": 7,
   "metadata": {},
   "outputs": [],
   "source": [
    "class Programa:\n",
    "    def __init__(self, nome, ano):\n",
    "        self._nome = nome.title()\n",
    "        self.ano = ano\n",
    "        self._likes = 0\n",
    "\n",
    "    @property\n",
    "    def likes(self):\n",
    "        return self._likes\n",
    "\n",
    "    def dar_likes(self):\n",
    "        self._likes += 1\n",
    "\n",
    "    @property\n",
    "    def nome(self):\n",
    "        return self._nome\n",
    "\n",
    "    @nome.setter\n",
    "    def nome(self, nome):\n",
    "        self._nome = nome\n",
    "        \n",
    "    def imprime(self):\n",
    "        print(f'{self._nome} - {self.ano} - {self._likes} Likes')\n",
    "        \n",
    "class Filme(Programa):\n",
    "    def __init__(self, nome, ano, duracao):\n",
    "        super().__init__(nome, ano)\n",
    "        self.duracao = duracao\n",
    "        \n",
    "    def imprime(self):\n",
    "        print(f'{self._nome} - {self.ano} - {self.duracao} min - {self._likes} Likes')        \n",
    "\n",
    "class Serie(Programa):\n",
    "    def __init__(self, nome, ano, temporadas):\n",
    "        super().__init__(nome, ano)\n",
    "        self.temporadas = temporadas\n",
    "        \n",
    "    def imprime(self):\n",
    "        print(f'{self._nome} - {self.ano} - {self.temporadas} temporadas - {self._likes} Likes')"
   ]
  },
  {
   "cell_type": "code",
   "execution_count": 8,
   "metadata": {},
   "outputs": [
    {
     "name": "stdout",
     "output_type": "stream",
     "text": [
      "Vingadores - Guerra Infinita - 2018 - 160 min - 3 Likes\n",
      "Atlanta - 2018 - 2 temporadas - 2 Likes\n"
     ]
    }
   ],
   "source": [
    "vingadores = Filme('vingadores - guerra infinita', 2018, 160)\n",
    "atlanta = Serie('atlanta', 2018, 2)\n",
    "vingadores.dar_likes()\n",
    "vingadores.dar_likes()\n",
    "vingadores.dar_likes()\n",
    "\n",
    "atlanta.dar_likes()\n",
    "atlanta.dar_likes()\n",
    "filmes_e_series = [vingadores, atlanta]\n",
    "for programa in filmes_e_series:\n",
    "    programa.imprime()"
   ]
  },
  {
   "cell_type": "markdown",
   "metadata": {},
   "source": [
    "### Dunder Methods"
   ]
  },
  {
   "cell_type": "markdown",
   "metadata": {},
   "source": [
    "• Alguns métodos no Python são especiais, ou dunder methods, como costumam chamar. Dunder vem de double underscore, isto é, \"dois underlines\". Um exemplo de método especial é o nosso __ init __ () que, ao ser definido, o Python sabe, por convenção, que ele é o inicializador de uma classe na criação de um objeto.\n",
    "\n",
    "• Neste caso, com __ init __ (), é necessário termos em uma classe, mesmo que não seja obrigatório, um método especial capaz de representar um objeto textualmente. Um destes, que não é o imprime(), é chamado de  __ str __ (), ou dunder str, ou ainda \"str especial\"."
   ]
  },
  {
   "cell_type": "code",
   "execution_count": 9,
   "metadata": {},
   "outputs": [],
   "source": [
    "class Programa:\n",
    "    def __init__(self, nome, ano):\n",
    "        self._nome = nome.title()\n",
    "        self.ano = ano\n",
    "        self._likes = 0\n",
    "\n",
    "    @property\n",
    "    def likes(self):\n",
    "        return self._likes\n",
    "\n",
    "    def dar_likes(self):\n",
    "        self._likes += 1\n",
    "\n",
    "    @property\n",
    "    def nome(self):\n",
    "        return self._nome\n",
    "\n",
    "    @nome.setter\n",
    "    def nome(self, nome):\n",
    "        self._nome = nome\n",
    "        \n",
    "    def __str__(self):\n",
    "        return f'{self._nome} - {self.ano} - {self._likes} Likes'\n",
    "        \n",
    "class Filme(Programa):\n",
    "    def __init__(self, nome, ano, duracao):\n",
    "        super().__init__(nome, ano)\n",
    "        self.duracao = duracao\n",
    "        \n",
    "    def __str__(self):\n",
    "        return f'{self._nome} - {self.ano} - {self.duracao} min - {self._likes} Likes'    \n",
    "\n",
    "class Serie(Programa):\n",
    "    def __init__(self, nome, ano, temporadas):\n",
    "        super().__init__(nome, ano)\n",
    "        self.temporadas = temporadas\n",
    "        \n",
    "    def __str__(self):\n",
    "        return f'{self._nome} - {self.ano} - {self.temporadas} temporadas - {self._likes} Likes'"
   ]
  },
  {
   "cell_type": "code",
   "execution_count": 10,
   "metadata": {},
   "outputs": [
    {
     "name": "stdout",
     "output_type": "stream",
     "text": [
      "Vingadores - Guerra Infinita - 2018 - 160 min - 3 Likes\n",
      "Atlanta - 2018 - 2 temporadas - 2 Likes\n"
     ]
    }
   ],
   "source": [
    "vingadores = Filme('vingadores - guerra infinita', 2018, 160)\n",
    "atlanta = Serie('atlanta', 2018, 2)\n",
    "vingadores.dar_likes()\n",
    "vingadores.dar_likes()\n",
    "vingadores.dar_likes()\n",
    "\n",
    "atlanta.dar_likes()\n",
    "atlanta.dar_likes()\n",
    "filmes_e_series = [vingadores, atlanta]\n",
    "for programa in filmes_e_series:\n",
    "    print(programa)"
   ]
  },
  {
   "cell_type": "markdown",
   "metadata": {},
   "source": [
    "## Quando Não Usar Heranças"
   ]
  },
  {
   "cell_type": "raw",
   "metadata": {},
   "source": [
    "Para criarmos uma playlist com nome, é preciso algo mais abstrato, de algo como o tipo Playlist. Assim, criaremos uma classe com este nome, que terá, além de nome e programa, o tamanho(), função que retornará a quantidade de itens que existem em uma determinada lista de programas, por meio do len()."
   ]
  },
  {
   "cell_type": "code",
   "execution_count": 11,
   "metadata": {},
   "outputs": [],
   "source": [
    "class Playlist:\n",
    "    def __init__(self, nome, programas):\n",
    "        self.nome = nome\n",
    "        self.programas = programas\n",
    "\n",
    "    def tamanho(self):\n",
    "        return len(self.programas)"
   ]
  },
  {
   "cell_type": "code",
   "execution_count": 12,
   "metadata": {},
   "outputs": [
    {
     "name": "stdout",
     "output_type": "stream",
     "text": [
      "Vingadores - Guerra Infinita - 2018 - 160 min - 1 Likes\n",
      "Atlanta - 2018 - 2 temporadas - 3 Likes\n",
      "Demolidor - 2016 - 2 temporadas - 2 Likes\n",
      "Todo Mundo Em Pânico - 1999 - 100 min - 4 Likes\n"
     ]
    }
   ],
   "source": [
    "vingadores = Filme('vingadores - guerra infinita', 2018, 160)\n",
    "atlanta = Serie('atlanta', 2018, 2)\n",
    "tmep = Filme('Todo mundo em pânico', 1999, 100)\n",
    "demolidor = Serie('Demolidor', 2016, 2)\n",
    "\n",
    "vingadores.dar_likes()\n",
    "tmep.dar_likes()\n",
    "tmep.dar_likes()\n",
    "tmep.dar_likes()\n",
    "tmep.dar_likes()\n",
    "demolidor.dar_likes()\n",
    "demolidor.dar_likes()\n",
    "atlanta.dar_likes()\n",
    "atlanta.dar_likes()\n",
    "atlanta.dar_likes()\n",
    "\n",
    "filmes_e_series = [vingadores, atlanta, demolidor, tmep]\n",
    "playlist_fim_de_semana = Playlist('fim de semana', filmes_e_series)\n",
    "\n",
    "for programa in playlist_fim_de_semana.programas:\n",
    "    print(programa)"
   ]
  },
  {
   "cell_type": "raw",
   "metadata": {},
   "source": [
    "•Estamos passando para dentro da playlist a variável programas, que está entrando no inicializador, mas este nome não importa muito, podendo ser substituído simplesmente por playlist ou filmes_e_series. A questão é que quando temos programas, precisamos conhecer a parte interna da playlist e saber que ela possui dentro de si uma variável com nome programas.\n",
    "\n",
    "• E se por exemplo usássemos herança para resolvermos este problema? Como faríamos para que o objeto Playlist seja reconhecido também como um tipo de objeto iterável, ou algum outro tipo compatível com esta notação do for, que possa ser incluído após o in?"
   ]
  },
  {
   "cell_type": "markdown",
   "metadata": {},
   "source": [
    "• Até pensamos em aplicarmos uma herança para que a playlist acesse as informações de um list, utilizado internamente. Como fazemos uma herança?\n",
    "\n",
    "• Primeiramente, incluímos os parênteses na classe Playlist para indicar de qual classe queremos herdar, no caso, list. Com isso, \"magicamente\" temos tudo o que o list possui, sendo assim, não é mais necessário definirmos tamanho(), uma vez que há uma forma específica de fazermos isto.\n",
    "\n",
    "• Podemos chamar o método inicializador da nossa superclasse, mantendo-se o nome, e definimos a lista de programas que está naquela list. Então, com super() chamaremos o construtor (o inicializador de list), passando simplesmente uma lista qualquer para dentro dele. Neste caso, como recebemos uma lista de programas, é isto que será usado."
   ]
  },
  {
   "cell_type": "code",
   "execution_count": 13,
   "metadata": {},
   "outputs": [],
   "source": [
    "class Playlist(list):\n",
    "    def __init__(self, nome, programas):\n",
    "        self.nome = nome\n",
    "        super().__init__(programas)"
   ]
  },
  {
   "cell_type": "raw",
   "metadata": {},
   "source": [
    "• Conseguimos fazer uma execução que passa pelo código e pelo for in com playlist_fim_de_semana, o que indica que nossa playlist poderá ser utilizada como um list em qualquer lugar, e esta é uma grande vantagem, pois não precisamos escrever nenhuma linha de código a mais."
   ]
  },
  {
   "cell_type": "code",
   "execution_count": 14,
   "metadata": {},
   "outputs": [
    {
     "name": "stdout",
     "output_type": "stream",
     "text": [
      "Tamanho do playlist: 4\n",
      "Vingadores - Guerra Infinita - 2018 - 160 min - 1 Likes\n",
      "Atlanta - 2018 - 2 temporadas - 3 Likes\n",
      "Demolidor - 2016 - 2 temporadas - 2 Likes\n",
      "Todo Mundo Em Pânico - 1999 - 100 min - 4 Likes\n"
     ]
    }
   ],
   "source": [
    "vingadores = Filme('vingadores - guerra infinita', 2018, 160)\n",
    "atlanta = Serie('atlanta', 2018, 2)\n",
    "tmep = Filme('Todo mundo em pânico', 1999, 100)\n",
    "demolidor = Serie('Demolidor', 2016, 2)\n",
    "\n",
    "vingadores.dar_likes()\n",
    "tmep.dar_likes()\n",
    "tmep.dar_likes()\n",
    "tmep.dar_likes()\n",
    "tmep.dar_likes()\n",
    "demolidor.dar_likes()\n",
    "demolidor.dar_likes()\n",
    "atlanta.dar_likes()\n",
    "atlanta.dar_likes()\n",
    "atlanta.dar_likes()\n",
    "\n",
    "filmes_e_series = [vingadores, atlanta, demolidor, tmep]\n",
    "playlist_fim_de_semana = Playlist('fim de semana', filmes_e_series)\n",
    "\n",
    "print(f'Tamanho do playlist: {len(playlist_fim_de_semana)}')\n",
    "\n",
    "for programa in playlist_fim_de_semana:\n",
    "    print(programa)"
   ]
  },
  {
   "cell_type": "code",
   "execution_count": 15,
   "metadata": {},
   "outputs": [
    {
     "name": "stdout",
     "output_type": "stream",
     "text": [
      "Tá ou não tá? True\n"
     ]
    }
   ],
   "source": [
    "print(f'Tá ou não tá? {demolidor in playlist_fim_de_semana}')"
   ]
  },
  {
   "cell_type": "markdown",
   "metadata": {},
   "source": [
    "### Fugindo da complexidade"
   ]
  },
  {
   "cell_type": "markdown",
   "metadata": {},
   "source": [
    "• No entanto, list é uma classe conhecida como built-in, embutida no Python e pronta para uso. E tivemos o benefício de reaproveitarmos vários códigos desta classe, mesmo não conhecendo todas as suas funcionalidades ou extensões. Precisamos tomar cuidado ao fazermos este tipo de herança!\n",
    "\n",
    "• list pode conter um método que permita o acesso a algum de seus itens, e ele pode ser protegido, por algum motivo. Muito em Python é implementado em CPython, então, pode ser que haja alguma função de list que seja protegida e não permita a sobrescrita. Mas para descobrirmos isto, teríamos que ler toda a documentação do list, e talvez isso nem nos ajude em nada no fim das contas.\n",
    "\n",
    "• Precisamos __ter controle do que estamos fazendo nas nossas classes__, o que implica em uma boa prática de programação, ainda mais em se tratando de Orientação a Objetos.\n",
    "\n",
    "• Desfazendo a herança teremos:"
   ]
  },
  {
   "cell_type": "code",
   "execution_count": 16,
   "metadata": {},
   "outputs": [],
   "source": [
    "class Playlist:\n",
    "    def __init__(self, nome, programas):\n",
    "        self.nome = nome\n",
    "        self._programas = programas\n",
    "\n",
    "    @property\n",
    "    def listagem(self):\n",
    "        return self._programas\n",
    "\n",
    "    @property\n",
    "    def tamanho(self):\n",
    "        return len(self._programas)"
   ]
  },
  {
   "cell_type": "markdown",
   "metadata": {},
   "source": [
    "### Para usar o for na playlist:"
   ]
  },
  {
   "cell_type": "raw",
   "metadata": {},
   "source": [
    "Há um método mágico - um dunder method - que, ao ser implementado, permite que a classe seja considerada um objeto iterável: o __getitem__(). Este método define algo que é iterável e, no caso, precisaremos receber um item para que este seja repassado à lista interna que estamos utilizando, isto é, programas."
   ]
  },
  {
   "cell_type": "code",
   "execution_count": 17,
   "metadata": {},
   "outputs": [],
   "source": [
    "class Playlist:\n",
    "    def __init__(self, nome, programas):\n",
    "        self.nome = nome\n",
    "        self._programas = programas\n",
    "        \n",
    "    def __getitem__(self, item):\n",
    "        return self._programas[item]\n",
    "\n",
    "    @property\n",
    "    def listagem(self):\n",
    "        return self._programas\n",
    "\n",
    "    @property\n",
    "    def tamanho(self):\n",
    "        return len(self._programas)"
   ]
  },
  {
   "cell_type": "raw",
   "metadata": {},
   "source": [
    "Assim, repassamos um item para a nossa lista interna de programas e, se rodarmos o código, já conseguimos iterar por todos os itens da playlist. Além disso, conseguimos fazer outras operações, como o seguinte trecho:"
   ]
  },
  {
   "cell_type": "code",
   "execution_count": 18,
   "metadata": {},
   "outputs": [
    {
     "name": "stdout",
     "output_type": "stream",
     "text": [
      "True\n"
     ]
    }
   ],
   "source": [
    "print(vingadores in playlist_fim_de_semana)"
   ]
  },
  {
   "cell_type": "markdown",
   "metadata": {},
   "source": [
    "## Duck Typing"
   ]
  },
  {
   "cell_type": "markdown",
   "metadata": {},
   "source": [
    "• No caso do reuso, com a herança (que chamamos de extensão), estamos estendendo a classe, usando uma mais genérica e estendendo-a e, assim, somos capazes de usar ambas da mesma forma. Significa que teremos acesso a todo o código referente à superclasse.\n",
    "\n",
    "• Se quisermos algo diferente, teremos que, forçadamente, sobrescrever o código da superclasse. O outro jeito de fazermos reuso, que não é tão nocivo, nem envolve tanto acoplamento (evitando assim que quaisquer alterações feitas na superclasse não interfiram negativamente na subclasse), é a composição.\n",
    "\n",
    "• Em vez de termos um relacionamento é um, teremos Playlist tem um list, assim sendo, ninguém precisa saber como a lista interna funciona, mesmo se quisermos fazer uma implementação de lista diferente da que está sendo usada. Isso porque a nossa interface é mais simples, e não precisamos expor todos os métodos de list.\n",
    "\n",
    "• Com isso, não precisamos de herança para obtermos as vantagens que queríamos, e então nos questionamos quanto à sua real necessidade. Então, se você tiver apenas um dos motivos apresentados, é possível pensar um pouco melhor em uma solução."
   ]
  },
  {
   "cell_type": "markdown",
   "metadata": {},
   "source": [
    "• No caso, temos uma playlist que se comporta como um(a) sequência iterável, e testamos a implementação do método mágico __ getitem __ (), que indica ao Python que a classe poderia ser usada para um for in, ou um in, para verificar se o item está contido em uma determinada lista, e também poderíamos acessar um item específico por meio do seu índice.\n",
    "\n",
    "• Isto porque o Python, e estes aspectos mais idiomáticos da sintaxe da linguagem, funciona bem quando utilizamos estes métodos mágicos, que possuem o double underscore (underscores duplos), com os quais passamos ao Python uma ideia de maneira mais clara.\n",
    "\n",
    "• O nome desta característica da linguagem é Duck typing, termo famoso por causa de uma fala do Alex Martelli. Este termo remete à \"tipagem de pato\", dando a ideia de que não precisamos necessariamente identificar uma ave para saber se trata-se de um pato ou não, basta sabermos se ela emite o mesmo som que o pato, voa ou anda como ele."
   ]
  },
  {
   "cell_type": "markdown",
   "metadata": {},
   "source": [
    "Como indicamos que temos uma forma diferente de implementar este len(), juntamente a programa, no loop for in?"
   ]
  },
  {
   "cell_type": "code",
   "execution_count": 19,
   "metadata": {},
   "outputs": [],
   "source": [
    "class Playlist:\n",
    "    def __init__(self, nome, programas):\n",
    "        self.nome = nome\n",
    "        self._programas = programas\n",
    "        \n",
    "    def __getitem__(self, item):\n",
    "        return self._programas[item]\n",
    "\n",
    "    def __len__(self):\n",
    "        return len(self._programas)\n",
    "\n",
    "    @property\n",
    "    def tamanho(self):\n",
    "        return len(self._programas)"
   ]
  },
  {
   "cell_type": "raw",
   "metadata": {},
   "source": [
    "Deste modo, sempre que o len() externo for chamado, conseguiremos obter o __len__() da nossa listagem interna."
   ]
  },
  {
   "cell_type": "code",
   "execution_count": 20,
   "metadata": {},
   "outputs": [
    {
     "name": "stdout",
     "output_type": "stream",
     "text": [
      "Tamanho do playlist: 4\n"
     ]
    }
   ],
   "source": [
    "print(f'Tamanho do playlist: {len(playlist_fim_de_semana)}')"
   ]
  },
  {
   "cell_type": "markdown",
   "metadata": {},
   "source": [
    "Existe um conceito chamado __Python Data Model__. Anteriormente, dissemos que nossa Playlist se comporta como uma sequência (__ getitem __ ()) que possibilita o uso de diversos recursos da linguagem.\n",
    "\n",
    "Por exemplo, o for funciona com a listagem, assim como o in, e desta vez implementamos o __ len __ (), que também suporta a classe Playlist. Com isso, conseguimos fazer muito com a nossa classe, daquilo que é compatível com a estrutura e os protocolos da linguagem.\n",
    "\n",
    "No __Python Data Model__, todo objeto em Python pode se comportar de forma a ser compatível e mais próximo à linguagem, e de toda a ideia idiomática dela. O len() do Python, por exemplo, se diferencia um pouco de outras linguagens.\n",
    "\n",
    "Há outras formas:\n",
    "<img src=\"img/data_model.png\" width=45%>\n",
    "\n",
    "•O __ repr __ () é utilizado para demonstrar como o objeto foi criado, útil mais para o compilador do Python do que para o usuário final. Dentre os métodos que servem para sequências - que são contêineres, para iterações -, há o __ contains __ (), que também fará o in funcionar. Também é possível mudarmos a forma como ele funciona, e implementá-lo de forma mais performática.\n",
    "\n",
    "• O __ iter __ () define protocolos de iteração, então, estamos criando o iterador a ser retornado. O __ len __ (), por sua vez, retorna o tamanho da lista, e o __ getitem __ (), que também já vimos, nos ajuda a percorrermos a lista e pegarmos um item específico dela.\n",
    "\n",
    "• Por exemplo, imaginem que queremos adicionar um item à playlist - neste caso, não poderíamos utilizar um append(), porque não o herdamos da estrutura de lista. No entanto, poderíamos definir que o operador + fará uma adição de um item na nossa lista interna. Para isto, é necessário implementarmos __ ad __ ().\n",
    "\n",
    "Para entendermos como tudo isso funciona no Python após a implementação destes métodos, temos o seguinte:\n",
    "\n",
    "<img src=\"img/data_model_ini.png\" width=45%>\n"
   ]
  },
  {
   "cell_type": "markdown",
   "metadata": {},
   "source": [
    " ## Heranças Múltiplas"
   ]
  },
  {
   "cell_type": "markdown",
   "metadata": {},
   "source": [
    "• Temos três classes criadas: Funcionario, Alura e Caelum, que são representações de funcionários na empresa. Uma nova regra implica na necessidade de especificarmos melhor como ficam os funcionários junior, pleno e sênior.\n",
    "\n",
    "• Sendo assim, teremos também Junior, Pleno e Senior, e há uma relação entre eles. Por exemplo, Junior só poderá acessar informações de Alura, enquanto o Pleno e o Senior têm mais responsabilidades, e poderão acessar os dois tipos.\n",
    "\n",
    "• Verificaremos como trabalharíamos se tivéssemos que herdar comportamentos destas classes superiores. Pleno e Senior, portanto, estarão fazendo uma herança múltipla, de dois tipos diferentes, tanto de Alura quanto Caelum.\n",
    "\n",
    "• Na prática, temos uma classe com um arquivo pronto (contendo Funcionario, Caelum e Alura). Em Funcionario, há registra_horas(), e a impressão da quantidade de horas registradas, bem como uma forma de mostrar as tarefas realizadas, por meio de mostrar_tarefas()."
   ]
  },
  {
   "cell_type": "code",
   "execution_count": 21,
   "metadata": {},
   "outputs": [],
   "source": [
    "class Funcionario:\n",
    "    def registra_horas(self, horas):\n",
    "        print('Horas registradas...')\n",
    "\n",
    "    def mostrar_tarefas(self):\n",
    "        print('Fez muita coisa...')\n",
    "\n",
    "class Caelum(Funcionario):\n",
    "    def mostrar_tarefas(self):\n",
    "        print('Fez muita coisa, Caelumer')\n",
    "\n",
    "    def busca_cursos_do_mes(self, mes=None):\n",
    "        print(f'Mostrando cursos - {mes}' if mes else 'Mostrando cursos desse mês')\n",
    "\n",
    "class Alura(Funcionario):\n",
    "    def mostrar_tarefas(self):\n",
    "        print('Fez muita coisa, Alurete!')\n",
    "\n",
    "    def busca_perguntas_sem_resposta(self):\n",
    "        print('Mostrando perguntas não respondidas do fórum')"
   ]
  },
  {
   "cell_type": "markdown",
   "metadata": {},
   "source": [
    "• Caelum e Alura possuem formas distintas de lidar com as tarefas. Isto significa que estamos sobrescrevendo mostrar_tarefas() de Funcionario para ambos, cada qual de um jeito. No entanto, temos particularidades, como busca_cursos_do_mes() e busca_perguntas_sem_resposta(), métodos específicos de cada classe.\n",
    "\n",
    "• Criaremos a classe Junior, a mais simples por herdar de apenas uma classe, Alura. E a classe Pleno, e colocamos as definições de quais classes queremos herdar entre parênteses e separados por vírgula."
   ]
  },
  {
   "cell_type": "code",
   "execution_count": 22,
   "metadata": {},
   "outputs": [],
   "source": [
    "class Junior(Alura):\n",
    "    pass\n",
    "\n",
    "class Pleno(Alura, Caelum):\n",
    "    pass"
   ]
  },
  {
   "cell_type": "code",
   "execution_count": 23,
   "metadata": {},
   "outputs": [
    {
     "name": "stdout",
     "output_type": "stream",
     "text": [
      "Mostrando perguntas não respondidas do fórum\n",
      "Fez muita coisa, Alurete!\n",
      "Mostrando perguntas não respondidas do fórum\n",
      "Mostrando cursos desse mês\n",
      "Fez muita coisa, Alurete!\n"
     ]
    }
   ],
   "source": [
    "jose = Junior()\n",
    "jose.busca_perguntas_sem_resposta()\n",
    "jose.mostrar_tarefas()\n",
    "\n",
    "luan = Pleno()\n",
    "luan.busca_perguntas_sem_resposta()\n",
    "luan.busca_cursos_do_mes()\n",
    "\n",
    "luan.mostrar_tarefas()"
   ]
  },
  {
   "cell_type": "markdown",
   "metadata": {},
   "source": [
    "Neste exemplo, foi impresso \"Fez muita coisa, Alurete!\",tanto para Jose quanto para Luan, porém, se a herança de Luan vem de Caelum e Alura, por que esta mensagem, e não \"Fez muita coisa, Caelumer\"?"
   ]
  },
  {
   "cell_type": "markdown",
   "metadata": {},
   "source": [
    "• Quando definimos Pleno, não designamos qual seria considerado primeiro, se Alura ou Caelum. A ordem normalmente segue da esquerda para a direita, como em uma leitura usual. Assim, a primeira opção é Alura.\n",
    "\n",
    "• Para a tomada de decisão sobre qual método deverá ser executado quando temos diversas superclasses que o possuem, internamente, a versão 3 do Python usa um algoritmo chamado MRO (Method Resolution Order), com um funcionamento que começa a busca pela classe atual, que é a própria classe.\n",
    "\n",
    "• Por exemplo, em Pleno, a primeira classe que será buscada neste caso é o próprio Pleno. Em seguida, o acesso será em sua classe mãe. No caso, ela possui duas mães, Alura e Caelum, e é aí que ocorre a primeira distinção - a primeira classe mãe é Alura, portanto ela será consultada primeiro.\n",
    "\n",
    "• Além disto, o cálculo do algoritmo acessará não apenas esta classe, mas todas as classes mães de Alura, e assim por diante, hierarquicamente: Pleno > Alura > Funcionario > Caelum > Funcionario\n",
    "\n",
    "__VISUALIZANDO__:"
   ]
  },
  {
   "cell_type": "code",
   "execution_count": 24,
   "metadata": {},
   "outputs": [],
   "source": [
    "class Funcionario:\n",
    "    def registra_horas(self, horas):\n",
    "        print('Horas registradas...')\n",
    "\n",
    "    def mostrar_tarefas(self):\n",
    "        print('Fez muita coisa...')\n",
    "\n",
    "class Caelum(Funcionario):\n",
    "    def mostrar_tarefas(self):\n",
    "        print('Fez muita coisa, Caelumer')\n",
    "\n",
    "    def busca_cursos_do_mes(self, mes=None):\n",
    "        print(f'Mostrando cursos - {mes}' if mes else 'Mostrando cursos desse mês')\n",
    "\n",
    "class Alura(Funcionario):\n",
    "    #def mostrar_tarefas(self):\n",
    "        #print('Fez muita coisa, Alurete!')\n",
    "\n",
    "    def busca_perguntas_sem_resposta(self):\n",
    "        print('Mostrando perguntas não respondidas do fórum')"
   ]
  },
  {
   "cell_type": "code",
   "execution_count": 25,
   "metadata": {},
   "outputs": [],
   "source": [
    "class Junior(Alura):\n",
    "    pass\n",
    "\n",
    "class Pleno(Alura, Caelum):\n",
    "    pass"
   ]
  },
  {
   "cell_type": "code",
   "execution_count": 26,
   "metadata": {},
   "outputs": [
    {
     "name": "stdout",
     "output_type": "stream",
     "text": [
      "Mostrando perguntas não respondidas do fórum\n",
      "Fez muita coisa...\n",
      "Mostrando perguntas não respondidas do fórum\n",
      "Mostrando cursos desse mês\n",
      "Fez muita coisa, Caelumer\n"
     ]
    }
   ],
   "source": [
    "jose = Junior()\n",
    "jose.busca_perguntas_sem_resposta()\n",
    "jose.mostrar_tarefas()\n",
    "\n",
    "luan = Pleno()\n",
    "luan.busca_perguntas_sem_resposta()\n",
    "luan.busca_cursos_do_mes()\n",
    "\n",
    "luan.mostrar_tarefas()"
   ]
  },
  {
   "cell_type": "markdown",
   "metadata": {},
   "source": [
    "• Receberemos \"Fez muita coisa...\" e, mais abaixo, \"Fez muita coisa, Caelumer\". A Alura não tem mais a implementação de \"Fez muita coisa, Alurete\", e como executamos para Junior e para Pleno, o primeiro chama \"Fez muita coisa...\" , que vem de Alura (que não possui implementação), portanto seu ancestral foi acessado, Funcionario.\n",
    "\n",
    "• No caso de Pleno, deveria ser feito o mesmo, ou seja, começado por Alura, que não tem implementação, passando para Funcionario. No entanto, ele passou para Caelum. Por que isto aconteceu?\n",
    "\n",
    "• Há duas etapas para a verificação do algoritmo MRO, que exige uma noção de que há uma repetição nesta lista, como no caso de Funcionario. Esta repetição precisa ser removida para que seja possível encontrar o local de onde acessaremos o método que está sendo implementado.\n",
    "\n",
    "• No nosso caso, em vez de Funcionario, Caelum é que foi acessado, pois a parte da remoção da duplicidade verifica se Funcionario é \"uma boa cabeça\" (good head). Caso positivo, quer dizer que poderemos mantê-la. Como o primeiro Funcionario não é uma good head, iremos removê-la: Pleno > Alura > Caelum > Funcionario\n",
    "\n",
    "• \"Boa cabeça\" indica que não há nenhuma outra classe que seja da mesma hierarquia, ou seja, que esteja abaixo de Funcionario (neste caso), e que possa ser utilizada. Já que Caelum também herda de Funcionario, podemos utilizá-la no lugar desta."
   ]
  }
 ],
 "metadata": {
  "kernelspec": {
   "display_name": "Python 3",
   "language": "python",
   "name": "python3"
  },
  "language_info": {
   "codemirror_mode": {
    "name": "ipython",
    "version": 3
   },
   "file_extension": ".py",
   "mimetype": "text/x-python",
   "name": "python",
   "nbconvert_exporter": "python",
   "pygments_lexer": "ipython3",
   "version": "3.7.3"
  }
 },
 "nbformat": 4,
 "nbformat_minor": 2
}
