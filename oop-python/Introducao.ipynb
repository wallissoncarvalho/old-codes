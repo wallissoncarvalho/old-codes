{
 "cells": [
  {
   "cell_type": "markdown",
   "metadata": {},
   "source": [
    "## Introdução à Programação Orientada à Objetos"
   ]
  },
  {
   "cell_type": "raw",
   "metadata": {},
   "source": [
    "Objetos:\n",
    "•Representam entidades em sua aplicação em desenvolvimento.\n",
    "•As entidades interagem entre si para resolver problemas.\n",
    "•Criar um objeto chama-se instanciação, e o objeto é uma instância da classe."
   ]
  },
  {
   "cell_type": "raw",
   "metadata": {},
   "source": [
    "Classes:\n",
    "•Definem objetos com atributos e comportamentos. Os atributos são membros de dados e os comportamentos são manifetastados pelas funções-membro.\n",
    "•As classes são constiuídas de construtores que proporcionam o estado inicial para esses objetos.\n",
    "•As classes são como templates, portanto, podem ser facilmente reutilizadas."
   ]
  },
  {
   "cell_type": "code",
   "execution_count": 1,
   "metadata": {},
   "outputs": [],
   "source": [
    "class Conta:\n",
    "    #Na hora de criar um objeto, o Python pode executar uma função, automaticamente,\n",
    "    #dentro da classe para definir os atributos, que é a função __init__\n",
    "    def __init__(self): \n",
    "        print(\"Construindo objeto...{}\".format(self))"
   ]
  },
  {
   "cell_type": "code",
   "execution_count": 2,
   "metadata": {},
   "outputs": [
    {
     "name": "stdout",
     "output_type": "stream",
     "text": [
      "Construindo objeto...<__main__.Conta object at 0x000001A41FAA57F0>\n"
     ]
    }
   ],
   "source": [
    "conta=Conta() "
   ]
  },
  {
   "cell_type": "raw",
   "metadata": {},
   "source": [
    "Pode-se notar que self é a referência que sabe encontrar o objeto construído em memória. Logo, self pode ser utilizado para se definir os atributos de uma classe."
   ]
  },
  {
   "cell_type": "code",
   "execution_count": 3,
   "metadata": {},
   "outputs": [],
   "source": [
    "class Conta:\n",
    "    #Na hora de criar um objeto, o Python pode executar uma função, automaticamente,\n",
    "    #dentro da classe para definir os atributos, que é a função self\n",
    "    def __init__(self,numero,titular,saldo,limite):\n",
    "        self.numero = numero\n",
    "        self.titular = titular\n",
    "        self.saldo = saldo\n",
    "        self.limite = limite"
   ]
  },
  {
   "cell_type": "code",
   "execution_count": 4,
   "metadata": {},
   "outputs": [],
   "source": [
    "conta = Conta(321,'Marco',55.5,100.0) #Criando um objeto da classe conta"
   ]
  },
  {
   "cell_type": "markdown",
   "metadata": {},
   "source": [
    "### Construtores com valores padrão\n",
    "<img src='img/standard_values.png' width=80%>"
   ]
  },
  {
   "cell_type": "markdown",
   "metadata": {},
   "source": [
    "## Diagrama de Classes:\n",
    "•O diagrama mostra os atributos: \"numero\", \"titular\", \"saldo\" e \"limite\". Observe que __init__ não é exibido no diagrama de classes, porque se trata de uma função implícita, que é chamada automaticamente.\n",
    "\n",
    "•Nós chamamos a classe Conta seguida de parênteses e, por baixo dos panos, o Python passará os valores para a função construtora. Quando executamos a linha com a referência conta, em memória, o Python vai gerar o objeto em que serão guardados os valores. \n",
    "\n",
    "•A referência conta sabe onde se encontra o objeto em memória. Mesmo sem sabermos como, o Python aloca isso e encontra espaço; nós não temos controle sobre essa parte do processo.\n",
    "\n",
    "<img src=\"img/referencias.png\" width=80%>"
   ]
  },
  {
   "cell_type": "code",
   "execution_count": 5,
   "metadata": {},
   "outputs": [
    {
     "data": {
      "text/plain": [
       "55.5"
      ]
     },
     "execution_count": 5,
     "metadata": {},
     "output_type": "execute_result"
    }
   ],
   "source": [
    "conta = Conta(321,'Marco',55.5,100.0) #Criando um objeto da classe conta\n",
    "#Tendo o objeto conta criado podemos acessar seus atributos através do \".\" Ex:\n",
    "conta.saldo"
   ]
  },
  {
   "cell_type": "markdown",
   "metadata": {},
   "source": [
    "## Definindo Métodos (funções dentro de uma classe)"
   ]
  },
  {
   "cell_type": "code",
   "execution_count": 6,
   "metadata": {},
   "outputs": [],
   "source": [
    "class Conta:\n",
    "    #Na hora de criar um objeto, o Python pode executar uma função, automaticamente,\n",
    "    #dentro da classe para definir os atributos, que é a função __init__\n",
    "    def __init__(self,numero,titular,saldo,limite):\n",
    "        self.numero = numero\n",
    "        self.titular = titular\n",
    "        self.saldo = saldo\n",
    "        self.limite = limite\n",
    "    def extrato(self):\n",
    "        print(\"Saldo de {} do titular {}\".format(self.saldo, self.titular))\n",
    "\n",
    "    def deposita(self, valor):\n",
    "        self.saldo += valor\n",
    "\n",
    "    def saca(self, valor):\n",
    "        self.saldo -= valor"
   ]
  },
  {
   "cell_type": "code",
   "execution_count": 7,
   "metadata": {},
   "outputs": [],
   "source": [
    "conta = Conta(321,'Marco',55.5,100.0)"
   ]
  },
  {
   "cell_type": "code",
   "execution_count": 8,
   "metadata": {},
   "outputs": [
    {
     "name": "stdout",
     "output_type": "stream",
     "text": [
      "Saldo de 55.5 do titular Marco\n"
     ]
    }
   ],
   "source": [
    "conta.extrato() #Chama a função extrato"
   ]
  },
  {
   "cell_type": "code",
   "execution_count": 9,
   "metadata": {},
   "outputs": [
    {
     "name": "stdout",
     "output_type": "stream",
     "text": [
      "Saldo de 55.5 do titular Marco\n",
      "Saldo de 255.5 do titular Marco\n"
     ]
    }
   ],
   "source": [
    "conta.extrato()\n",
    "conta.deposita(200.0)\n",
    "conta.extrato()"
   ]
  },
  {
   "cell_type": "markdown",
   "metadata": {},
   "source": [
    "## Diagrama de Classes:\n",
    "• O diagrama da classe Conta contém novos dados: os métodos extrato(), deposita(), saca() foram incluídos juntos com seus parâmetros. Normalmente, não incluímos a função construtora '__init__', considerando que ela é chamada de forma implícita.\n",
    "\n",
    "• O método extrato() pode ser utilizado para impressão de valores, como em conta.extrato(). Desta vez, a referência foi usada para a chamada do método, assim o objeto será passado automaticamente.\n",
    "\n",
    "<img src=\"img/referencias2.png\" width=80%>"
   ]
  },
  {
   "cell_type": "markdown",
   "metadata": {},
   "source": [
    "## Atributos Privados"
   ]
  },
  {
   "cell_type": "raw",
   "metadata": {},
   "source": [
    "Quando queremos que os atributos sejam alterados e acessados através dos métodos definidos na classe, para que ele não possa ser alterado diretamente do console através do acesso pela referência, como no exemplo abaixo, teremos que usar os métodos responsáveis por encapsular o acesso ao objeto.\n",
    "\n",
    "Então, para melhorarmos a classe Conta, devemos restringir o acesso a saldo, tornando-o privado, adicionando dois caracteres underscore (__)."
   ]
  },
  {
   "cell_type": "code",
   "execution_count": 10,
   "metadata": {},
   "outputs": [
    {
     "name": "stdout",
     "output_type": "stream",
     "text": [
      "Saldo de 255.5 do titular Marco\n",
      "Saldo de 90.0 do titular Marco\n"
     ]
    }
   ],
   "source": [
    "conta.extrato()\n",
    "conta.saldo =90.0 #Alterando um atributo acessando pela referência (má prática)\n",
    "conta.extrato()"
   ]
  },
  {
   "cell_type": "code",
   "execution_count": 11,
   "metadata": {},
   "outputs": [],
   "source": [
    "class Conta:\n",
    "    def __init__(self, numero, titular, saldo, limite):\n",
    "        self.__numero = numero\n",
    "        self.__titular = titular \n",
    "        self.__saldo = saldo\n",
    "        self.__limite = limite\n",
    "        \n",
    "    def extrato(self):\n",
    "        print(\"Saldo de {} do titular {}\".format(self.__saldo, self.__titular))\n",
    "\n",
    "    def deposita(self, valor):\n",
    "        self.__saldo += valor\n",
    "\n",
    "    def saca(self, valor):\n",
    "        self.__saldo -= valor       "
   ]
  },
  {
   "cell_type": "raw",
   "metadata": {},
   "source": [
    "Quando _ é utilizado, o atributo é renomeado pelo Python. Por exemplo, __conta passou a se chamar automaticamente _Conta__saldo. Desta forma, explicitamos para o desenvolvedor que se trata de um atributo privado."
   ]
  },
  {
   "cell_type": "code",
   "execution_count": 12,
   "metadata": {},
   "outputs": [],
   "source": [
    "conta = Conta(321,'Marco',55.5,100.0)"
   ]
  },
  {
   "cell_type": "code",
   "execution_count": 13,
   "metadata": {},
   "outputs": [
    {
     "data": {
      "text/plain": [
       "55.5"
      ]
     },
     "execution_count": 13,
     "metadata": {},
     "output_type": "execute_result"
    }
   ],
   "source": [
    "#Essa convenção continua permitindo o acesso direto ao atributo\n",
    "#No entanto identifica que esses atributos devem ser acessados a partir de métodos\n",
    "conta._Conta__saldo "
   ]
  },
  {
   "cell_type": "markdown",
   "metadata": {},
   "source": [
    "## Exemplo de Encapsulamento"
   ]
  },
  {
   "cell_type": "code",
   "execution_count": 14,
   "metadata": {},
   "outputs": [],
   "source": [
    "class Retangulo:\n",
    "\n",
    "    def __init__(self, x, y):\n",
    "        self.__x = x\n",
    "        self.__y = y\n",
    "        self.__area = x * y\n",
    "\n",
    "    def obter_area(self):\n",
    "        return self.__area"
   ]
  },
  {
   "cell_type": "code",
   "execution_count": 15,
   "metadata": {},
   "outputs": [
    {
     "data": {
      "text/plain": [
       "42"
      ]
     },
     "execution_count": 15,
     "metadata": {},
     "output_type": "execute_result"
    }
   ],
   "source": [
    "r = Retangulo(7,6)\n",
    "r.area = 7\n",
    "r.obter_area()"
   ]
  },
  {
   "cell_type": "raw",
   "metadata": {},
   "source": [
    "A classe Retangulo define os atributos __x, __y e __area, além do construtor e o método obter_area(). Nada impede então criar um objeto:\n",
    "\n",
    "r = Retangulo(7,6)\n",
    "\n",
    "Agora, se você tenta acessar um atributo area, que na verdade não declaramos, o Python cria automaticamente um novo atributo e inicializa com o valor 7:\n",
    "r.area = 7\n",
    "\n",
    "Na linha em cima o objeto ganha um novo atributo com o nome area. Ou seja, temos um atributo __area E um novo com o nome area. No entanto, ao chamar r.obter_area(), continuamos acessar o atributo __area que foi inicializado com o produto de 7*6!"
   ]
  },
  {
   "cell_type": "markdown",
   "metadata": {},
   "source": [
    "## Encapsulamento"
   ]
  },
  {
   "cell_type": "markdown",
   "metadata": {},
   "source": [
    "Agora se quisermos transferir dinheiro da conta do Marco (conta2) para o Nico (conta), como a quantia de R$10.00 que iremos declara a seguir:"
   ]
  },
  {
   "cell_type": "code",
   "execution_count": 16,
   "metadata": {},
   "outputs": [],
   "source": [
    "conta = Conta(123, \"Nico\", 55.5, 1000.0)\n",
    "conta2 = Conta(321, \"Marco\", 100.0, 1000.0)\n",
    "valor = 10.00"
   ]
  },
  {
   "cell_type": "code",
   "execution_count": 17,
   "metadata": {},
   "outputs": [
    {
     "name": "stdout",
     "output_type": "stream",
     "text": [
      "Saldo de 65.5 do titular Nico\n",
      "Saldo de 90.0 do titular Marco\n"
     ]
    }
   ],
   "source": [
    "conta2.saca(valor)\n",
    "conta.deposita(valor)\n",
    "conta.extrato()\n",
    "conta2.extrato()"
   ]
  },
  {
   "cell_type": "raw",
   "metadata": {},
   "source": [
    "Foi implementada a transferência fora da classe. Se quisermos transferir, é melhor deixar todo o código em um único lugar. Como essa operação está relacionada com a conta, iremos colocá-la na Conta."
   ]
  },
  {
   "cell_type": "code",
   "execution_count": 18,
   "metadata": {},
   "outputs": [],
   "source": [
    "class Conta:\n",
    "    def __init__(self, numero, titular, saldo, limite):\n",
    "        self.__numero = numero\n",
    "        self.__titular = titular \n",
    "        self.__saldo = saldo\n",
    "        self.__limite = limite\n",
    "        \n",
    "    def extrato(self):\n",
    "        print(\"Saldo de {} do titular {}\".format(self.__saldo, self.__titular))\n",
    "\n",
    "    def deposita(self, valor):\n",
    "        self.__saldo += valor\n",
    "\n",
    "    def saca(self, valor):\n",
    "        self.__saldo -= valor  \n",
    "        \n",
    "    def transfere(self,valor,destino):\n",
    "        self.saca(valor)\n",
    "        destino.deposita(valor)"
   ]
  },
  {
   "cell_type": "code",
   "execution_count": 19,
   "metadata": {},
   "outputs": [],
   "source": [
    "conta = Conta(123, \"Nico\", 55.5, 1000.0)\n",
    "conta2 = Conta(321, \"Marco\", 100.0, 1000.0)"
   ]
  },
  {
   "cell_type": "code",
   "execution_count": 20,
   "metadata": {},
   "outputs": [
    {
     "name": "stdout",
     "output_type": "stream",
     "text": [
      "Saldo de 90.0 do titular Marco\n",
      "Saldo de 65.5 do titular Nico\n"
     ]
    }
   ],
   "source": [
    "conta2.transfere(10,conta)\n",
    "conta2.extrato()\n",
    "conta.extrato()"
   ]
  },
  {
   "cell_type": "raw",
   "metadata": {},
   "source": [
    "A função de transferência foi encapsulada dentro da classe conta."
   ]
  },
  {
   "cell_type": "markdown",
   "metadata": {},
   "source": [
    "## Getters e Setters"
   ]
  },
  {
   "cell_type": "raw",
   "metadata": {},
   "source": [
    "Quando temos o objetivo de acessar atributos privados, devemos criar um métoro que retorne o atribute (return) ou que modifique o modifique.\n",
    "\n",
    "•É comum acessarmos os atributos para gerar relatórios, que nos mostre os dados principais da conta. Por serem recorrentes, existe uma nomenclatura padrão para esses métodos: getters (que nos dão um dado). Ou seja, a forma mais apropriada de nomear os métodos seria usando o nome get.\n",
    "\n",
    "•Podemos ter a necessidade de mudar, por exemplo, o limite da conta, nesse caso, falamos dos setters. Que acessa e modifica um atributo.\n",
    "\n",
    "•Importante: Usem os getters e setters com parcimônia. Eles devem ser criados apenas quando forem necessários. Por exemplo, o número da conta e o titular nunca são alterados, logo não é necessário existir um set_conta ou set_titular."
   ]
  },
  {
   "cell_type": "code",
   "execution_count": 21,
   "metadata": {},
   "outputs": [],
   "source": [
    "class Conta:\n",
    "    def __init__(self, numero, titular, saldo, limite):\n",
    "        self.__numero = numero\n",
    "        self.__titular = titular \n",
    "        self.__saldo = saldo\n",
    "        self.__limite = limite\n",
    "        \n",
    "    def extrato(self):\n",
    "        print(\"Saldo de {} do titular {}\".format(self.__saldo, self.__titular))\n",
    "\n",
    "    def deposita(self, valor):\n",
    "        self.__saldo += valor\n",
    "\n",
    "    def saca(self, valor):\n",
    "        self.__saldo -= valor  \n",
    "        \n",
    "    def transfere(self,valor,destino):\n",
    "        self.saca(valor)\n",
    "        destino.deposita(valor)\n",
    "        \n",
    "    def deposita(self, valor):\n",
    "        self.__saldo += valor\n",
    "\n",
    "    def saca(self, valor):\n",
    "        self.__saldo -= valor\n",
    "\n",
    "    def transfere(self, valor, destino):\n",
    "        self.saca(valor)\n",
    "        destino.deposita(valor)\n",
    "\n",
    "    def get_saldo(self):\n",
    "        return self._saldo\n",
    "\n",
    "    def get_titular(self):\n",
    "        return self._limite  \n",
    "\n",
    "    def get_limite(self):\n",
    "        return self._limite\n",
    "\n",
    "    def set_limite(self, limite):\n",
    "        self._limite = limite"
   ]
  },
  {
   "cell_type": "markdown",
   "metadata": {},
   "source": [
    "## Propriedades"
   ]
  },
  {
   "cell_type": "raw",
   "metadata": {},
   "source": [
    "A seguir, mostraremos uma sintaxe alternativa para sintaxe dos getters, para isto, criaremos a classe Cliente. Lembrando que não vamos inventar funcionalidades desnecessárias ou que terão utilidade apenas no futuro.\n",
    "\n",
    "Existe uma expressão em inglês conhecida na Engenharia de software que é: \"You Ain't Gonna Need It\" (YAGNI, abreviada). Trata-se de uma orientação para que programadores evitem criar funcionalidades para o código fonte de um programa até que estas sejam necessárias."
   ]
  },
  {
   "cell_type": "code",
   "execution_count": 22,
   "metadata": {},
   "outputs": [],
   "source": [
    "#Criando uma classe de clientes\n",
    "class Cliente:\n",
    "\n",
    "    def __init__(self, nome):\n",
    "        self.nome = nome\n"
   ]
  },
  {
   "cell_type": "raw",
   "metadata": {},
   "source": [
    "Na classe Cliente, poderemos adicionar um método, que passará a se chamar nome(), para retornar o atributo nome, e quando acessarmos o atributo nome de cliente, queremos que seja executado o método title() para que, dessa forma, o método retorne sempre o atributo iniciando com letra maiúscula.\n",
    "\n",
    "No entanto, isso ainda não será o suficiente. No console, precisaremos dos parênteses para que o método seja executado. Mas nosso objetivo é que a execução ocorra, mesmo sem os parênteses.\n",
    "\n",
    "Na linguagem Python, os métodos que dão acesso são nomeados como properties. Desta forma, indicaremos para o Python nossa intenção de ter acesso ao objeto.\n",
    "\n",
    "A declaração de uma property é feita com o uso do caractere @. -> @property"
   ]
  },
  {
   "cell_type": "code",
   "execution_count": 23,
   "metadata": {},
   "outputs": [],
   "source": [
    "class Cliente:\n",
    "\n",
    "   def __init__(self, nome):\n",
    "       self.__nome = nome\n",
    "\n",
    "   @property\n",
    "   def nome(self): \n",
    "       return self .__nome.title()"
   ]
  },
  {
   "cell_type": "raw",
   "metadata": {},
   "source": [
    "Se esquecermos de adicionar __ ao atributo nome e torná-lo privado, receberemos uma mensagem de erro quando tentarmos acessá-lo no console. "
   ]
  },
  {
   "cell_type": "code",
   "execution_count": 24,
   "metadata": {},
   "outputs": [],
   "source": [
    "cliente=Cliente('nico')"
   ]
  },
  {
   "cell_type": "code",
   "execution_count": 25,
   "metadata": {},
   "outputs": [
    {
     "data": {
      "text/plain": [
       "'Nico'"
      ]
     },
     "execution_count": 25,
     "metadata": {},
     "output_type": "execute_result"
    }
   ],
   "source": [
    "cliente.nome"
   ]
  },
  {
   "cell_type": "raw",
   "metadata": {},
   "source": [
    "Criamos um setter sem a adicionação do set antes do nome do método. Mas para que ele funcione, teremos que adicionar também uma configuração: @nome.setter."
   ]
  },
  {
   "cell_type": "code",
   "execution_count": 26,
   "metadata": {},
   "outputs": [],
   "source": [
    "class Cliente:\n",
    "    \n",
    "    def __init__(self, nome):\n",
    "        self.__nome = nome\n",
    "    @property\n",
    "    def nome(self): \n",
    "        return self.__nome.title()\n",
    "    @nome.setter\n",
    "    def nome(self, nome):\n",
    "        self.__nome = nome"
   ]
  },
  {
   "cell_type": "code",
   "execution_count": 27,
   "metadata": {},
   "outputs": [],
   "source": [
    "cliente = Cliente(\"nico\")"
   ]
  },
  {
   "cell_type": "code",
   "execution_count": 28,
   "metadata": {},
   "outputs": [
    {
     "data": {
      "text/plain": [
       "'Nico'"
      ]
     },
     "execution_count": 28,
     "metadata": {},
     "output_type": "execute_result"
    }
   ],
   "source": [
    "cliente.nome"
   ]
  },
  {
   "cell_type": "code",
   "execution_count": 29,
   "metadata": {},
   "outputs": [],
   "source": [
    "cliente.nome='Marco'"
   ]
  },
  {
   "cell_type": "code",
   "execution_count": 30,
   "metadata": {},
   "outputs": [
    {
     "data": {
      "text/plain": [
       "'Marco'"
      ]
     },
     "execution_count": 30,
     "metadata": {},
     "output_type": "execute_result"
    }
   ],
   "source": [
    "cliente.nome"
   ]
  },
  {
   "cell_type": "raw",
   "metadata": {},
   "source": [
    "Se fizermos adicionarmos propriedades na classe conta, ela ficará da seguinte forma:"
   ]
  },
  {
   "cell_type": "code",
   "execution_count": 31,
   "metadata": {},
   "outputs": [],
   "source": [
    "class Conta:\n",
    "\n",
    "    def __init__(self, numero, titular, saldo, limite):\n",
    "        print(\"Construindo objeto ... {}\".format(self))\n",
    "        self.__numero = numero\n",
    "        self.__titular = titular\n",
    "        self.__saldo = saldo\n",
    "        self.__limite = limite\n",
    "\n",
    "    def extrato(self):\n",
    "        print(\"Saldo de {} do titular {}\".format(self.__saldo, self.__titular))\n",
    "\n",
    "    def deposita(self, valor):\n",
    "        self.__saldo += valor\n",
    "\n",
    "    def saca(self, valor):\n",
    "        self.__saldo -= valor\n",
    "\n",
    "    def transfere(self, valor, destino):\n",
    "        self.saca(valor)\n",
    "        destino.deposita(valor)\n",
    "\n",
    "    @property\n",
    "    def saldo(self):\n",
    "        return self.__saldo\n",
    "\n",
    "    @property\n",
    "    def titular(self):\n",
    "        return self.__titular\n",
    "\n",
    "    @property\n",
    "    def limite(self):\n",
    "        return self.__limite\n",
    "\n",
    "    @limite.setter\n",
    "    def limite(self, limite):\n",
    "        self.__limite = limite"
   ]
  },
  {
   "cell_type": "markdown",
   "metadata": {},
   "source": [
    "## Métodos Privados"
   ]
  },
  {
   "cell_type": "raw",
   "metadata": {},
   "source": [
    "Quando o titular for realizar um saque, precisamos de um método que identifique se ele pode sacar este valor a partir do seu saldo e limite disponível. Este método será privado para ser utilizado apenas dentro da classe a partir de outro método, logo teremos, dentro da classe:\n",
    "\n",
    "def __pode_sacar(self, valor_a_sacar):\n",
    "    valor_disponivel_a_sacar = self.__saldo + self.__limite\n",
    "    return valor_a_sacar <= valor_disponivel_a_sacar \n",
    "\n",
    "def saca(self, valor):\n",
    "    if(self.__pode_sacar(valor)):\n",
    "        self.__saldo -= valor\n",
    "    else:\n",
    "        print(\"O valor {} passou o limite\".format(valor))\n"
   ]
  },
  {
   "cell_type": "code",
   "execution_count": 32,
   "metadata": {},
   "outputs": [],
   "source": [
    "class Conta:\n",
    "\n",
    "    def __init__(self, numero, titular, saldo, limite):\n",
    "        self.__numero = numero\n",
    "        self.__titular = titular\n",
    "        self.__saldo = saldo\n",
    "        self.__limite = limite\n",
    "\n",
    "    def extrato(self):\n",
    "        print(\"Saldo de {} do titular {}\".format(self.__saldo, self.__titular))\n",
    "\n",
    "    def deposita(self, valor):\n",
    "        self.__saldo += valor\n",
    "\n",
    "    def __pode_sacar(self, valor_a_sacar):\n",
    "        valor_disponivel_a_sacar = self.__saldo + self.__limite\n",
    "        return valor_a_sacar <= valor_disponivel_a_sacar \n",
    "\n",
    "    def saca(self, valor):\n",
    "        if(self.__pode_sacar(valor)):\n",
    "            self.__saldo -= valor\n",
    "        else:\n",
    "            print(\"O valor {} passou o limite\".format(valor))\n",
    "\n",
    "    def transfere(self, valor, destino):\n",
    "        self.saca(valor)\n",
    "        destino.deposita(valor)\n",
    "\n",
    "    @property\n",
    "    def saldo(self):\n",
    "        return self.__saldo\n",
    "\n",
    "    @property\n",
    "    def titular(self):\n",
    "        return self.__titular\n",
    "\n",
    "    @property\n",
    "    def limite(self):\n",
    "        return self.__limite\n",
    "\n",
    "    @limite.setter\n",
    "    def limite(self, limite):\n",
    "        self.__limite = limite"
   ]
  },
  {
   "cell_type": "code",
   "execution_count": 33,
   "metadata": {},
   "outputs": [],
   "source": [
    "conta = Conta(123, \"Nico\", 55.5, 1000.0)"
   ]
  },
  {
   "cell_type": "code",
   "execution_count": 34,
   "metadata": {},
   "outputs": [
    {
     "name": "stdout",
     "output_type": "stream",
     "text": [
      "O valor 1200 passou o limite\n"
     ]
    }
   ],
   "source": [
    "conta.saca(1200)"
   ]
  },
  {
   "cell_type": "markdown",
   "metadata": {},
   "source": [
    "## Métodos da Classe"
   ]
  },
  {
   "cell_type": "raw",
   "metadata": {},
   "source": [
    "• A seguir, imagine que estamos criando um sistema para o Banco do Brasil, no qual todas as contas baseadas nesta classe são referentes ao banco. Geralmente, cada instituição financeira tem um código associado. O código referente ao Banco do Brasil é 001.\n",
    "\n",
    "• Como esse método não será diretamente dependente do objeto e fazem parte da classe. Nós queremos chamar esse método, sem a inclusão do objeto, por isso ele não precisará de um self.\n",
    "\n",
    "• Os métodos que conseguimos chamar sem uma referência recebem o nome de estátitcos, porque eles fazem parte de todas as classes. A configuração correta de definir esses métodos é : @staticmethod\n",
    "\n",
    "Adicionaremos à classe:\n",
    "\n",
    "@staticmethod\n",
    "def codigo_banco():\n",
    "    return \"001\""
   ]
  },
  {
   "cell_type": "code",
   "execution_count": 35,
   "metadata": {},
   "outputs": [],
   "source": [
    "class Conta:\n",
    "\n",
    "    def __init__(self, numero, titular, saldo, limite):\n",
    "        self.__numero = numero\n",
    "        self.__titular = titular\n",
    "        self.__saldo = saldo\n",
    "        self.__limite = limite\n",
    "\n",
    "    def extrato(self):\n",
    "        print(\"Saldo de {} do titular {}\".format(self.__saldo, self.__titular))\n",
    "\n",
    "    def deposita(self, valor):\n",
    "        self.__saldo += valor\n",
    "\n",
    "    def __pode_sacar(self, valor_a_sacar):\n",
    "        valor_disponivel_a_sacar = self.__saldo + self.__limite\n",
    "        return valor_a_sacar <= valor_disponivel_a_sacar \n",
    "\n",
    "    def saca(self, valor):\n",
    "        if(self.__pode_sacar(valor)):\n",
    "            self.__saldo -= valor\n",
    "        else:\n",
    "            print(\"O valor {} passou o limite\".format(valor))\n",
    "\n",
    "    def transfere(self, valor, destino):\n",
    "        self.saca(valor)\n",
    "        destino.deposita(valor)\n",
    "\n",
    "    @property\n",
    "    def saldo(self):\n",
    "        return self.__saldo\n",
    "\n",
    "    @property\n",
    "    def titular(self):\n",
    "        return self.__titular\n",
    "\n",
    "    @property\n",
    "    def limite(self):\n",
    "        return self.__limite\n",
    "\n",
    "    @limite.setter\n",
    "    def limite(self, limite):\n",
    "        self.__limite = limite\n",
    "    @staticmethod\n",
    "    def codigo_banco():\n",
    "        return \"001\""
   ]
  },
  {
   "cell_type": "code",
   "execution_count": 36,
   "metadata": {},
   "outputs": [
    {
     "data": {
      "text/plain": [
       "'001'"
      ]
     },
     "execution_count": 36,
     "metadata": {},
     "output_type": "execute_result"
    }
   ],
   "source": [
    "Conta.codigo_banco()"
   ]
  },
  {
   "cell_type": "markdown",
   "metadata": {},
   "source": [
    "## Atributo Estático"
   ]
  },
  {
   "cell_type": "raw",
   "metadata": {},
   "source": [
    "No exemplo abaixo criamos um classe Circulo que possui um método estático obter_pi():"
   ]
  },
  {
   "cell_type": "code",
   "execution_count": 37,
   "metadata": {},
   "outputs": [],
   "source": [
    "class Circulo:\n",
    "    PI =3.14"
   ]
  },
  {
   "cell_type": "raw",
   "metadata": {},
   "source": [
    "Repare que não usamos self e o atributo nem foi definido dentro do __init__. O atributo faz parte da classe, ou seja, é um atributo estático que pode ser usado sem ter criado um objeto. Veja como fica simples:"
   ]
  },
  {
   "cell_type": "code",
   "execution_count": 38,
   "metadata": {},
   "outputs": [
    {
     "data": {
      "text/plain": [
       "3.14"
      ]
     },
     "execution_count": 38,
     "metadata": {},
     "output_type": "execute_result"
    }
   ],
   "source": [
    "Circulo.PI\n",
    "3.14"
   ]
  }
 ],
 "metadata": {
  "kernelspec": {
   "display_name": "Python 3",
   "language": "python",
   "name": "python3"
  },
  "language_info": {
   "codemirror_mode": {
    "name": "ipython",
    "version": 3
   },
   "file_extension": ".py",
   "mimetype": "text/x-python",
   "name": "python",
   "nbconvert_exporter": "python",
   "pygments_lexer": "ipython3",
   "version": "3.7.3"
  }
 },
 "nbformat": 4,
 "nbformat_minor": 2
}
